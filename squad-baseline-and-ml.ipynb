{
 "cells": [
  {
   "cell_type": "markdown",
   "metadata": {},
   "source": [
    "# Importing Libraries"
   ]
  },
  {
   "cell_type": "code",
   "execution_count": 4,
   "metadata": {
    "execution": {
     "iopub.execute_input": "2023-04-07T17:35:16.158932Z",
     "iopub.status.busy": "2023-04-07T17:35:16.158140Z",
     "iopub.status.idle": "2023-04-07T17:35:34.260145Z",
     "shell.execute_reply": "2023-04-07T17:35:34.258795Z",
     "shell.execute_reply.started": "2023-04-07T17:35:16.158883Z"
    }
   },
   "outputs": [],
   "source": [
    "import numpy as np, pandas as pd\n",
    "import json\n",
    "import ast \n",
    "from textblob import TextBlob\n",
    "import nltk\n",
    "import torch\n",
    "import pickle\n",
    "from scipy import spatial\n",
    "import warnings\n",
    "warnings.filterwarnings('ignore')\n",
    "import spacy\n",
    "from nltk import Tree\n",
    "from nltk.stem.lancaster import LancasterStemmer\n",
    "st = LancasterStemmer()\n",
    "from sklearn.feature_extraction.text import TfidfVectorizer, TfidfTransformer\n",
    "from sklearn import linear_model\n",
    "from sklearn import metrics\n",
    "from sklearn.model_selection import train_test_split\n",
    "from models import InferSent\n",
    "from sklearn.preprocessing import StandardScaler, MinMaxScaler,QuantileTransformer"
   ]
  },
  {
   "cell_type": "markdown",
   "metadata": {},
   "source": [
    "# Convert JSON to Pandas Dataframe"
   ]
  },
  {
   "cell_type": "code",
   "execution_count": 5,
   "metadata": {
    "execution": {
     "iopub.execute_input": "2023-04-07T17:35:59.636420Z",
     "iopub.status.busy": "2023-04-07T17:35:59.635473Z",
     "iopub.status.idle": "2023-04-07T17:36:00.728533Z",
     "shell.execute_reply": "2023-04-07T17:36:00.726987Z",
     "shell.execute_reply.started": "2023-04-07T17:35:59.636375Z"
    }
   },
   "outputs": [],
   "source": [
    "train = pd.read_json(\"/kaggle/working/squad11/train-v1.1.json\") #Read the train data JSON File\n",
    "valid = pd.read_json(\"/kaggle/working/squad11/dev-v1.1.json\") #Read the valid data JSON File"
   ]
  },
  {
   "cell_type": "code",
   "execution_count": 6,
   "metadata": {
    "execution": {
     "iopub.execute_input": "2023-04-07T17:36:02.215051Z",
     "iopub.status.busy": "2023-04-07T17:36:02.214377Z",
     "iopub.status.idle": "2023-04-07T17:36:02.223498Z",
     "shell.execute_reply": "2023-04-07T17:36:02.222245Z",
     "shell.execute_reply.started": "2023-04-07T17:36:02.215013Z"
    }
   },
   "outputs": [
    {
     "data": {
      "text/plain": [
       "((442, 2), (48, 2))"
      ]
     },
     "execution_count": 6,
     "metadata": {},
     "output_type": "execute_result"
    }
   ],
   "source": [
    "train.shape, valid.shape"
   ]
  },
  {
   "cell_type": "code",
   "execution_count": 7,
   "metadata": {
    "execution": {
     "iopub.execute_input": "2023-04-07T17:36:02.937467Z",
     "iopub.status.busy": "2023-04-07T17:36:02.937018Z",
     "iopub.status.idle": "2023-04-07T17:36:03.119568Z",
     "shell.execute_reply": "2023-04-07T17:36:03.117973Z",
     "shell.execute_reply.started": "2023-04-07T17:36:02.937428Z"
    }
   },
   "outputs": [],
   "source": [
    "contexts = []       \n",
    "questions = []\n",
    "answers_text = []\n",
    "answers_start = []\n",
    "for i in range(train.shape[0]):\n",
    "    topic = train.iloc[i,0]['paragraphs'] # To select each paragraph from data and gather corresponding info of it.\n",
    "    for sub_para in topic:\n",
    "        for q_a in sub_para['qas']:\n",
    "            questions.append(q_a['question']) # To get Question of each paragraph \n",
    "            answers_start.append(q_a['answers'][0]['answer_start']) # To get the start index of answer\n",
    "            answers_text.append(q_a['answers'][0]['text']) # To get the Answer for the question\n",
    "            contexts.append(sub_para['context']) # To get the context of the paragraph\n",
    "df = pd.DataFrame({\"context\":contexts, \"question\": questions, \"answer_start\": answers_start, \"text\": answers_text})"
   ]
  },
  {
   "cell_type": "code",
   "execution_count": 8,
   "metadata": {
    "execution": {
     "iopub.execute_input": "2023-04-07T17:36:04.582280Z",
     "iopub.status.busy": "2023-04-07T17:36:04.581287Z",
     "iopub.status.idle": "2023-04-07T17:36:04.589826Z",
     "shell.execute_reply": "2023-04-07T17:36:04.588406Z",
     "shell.execute_reply.started": "2023-04-07T17:36:04.582187Z"
    }
   },
   "outputs": [],
   "source": [
    "# Taking only 25% of total dataset\n",
    "df = df[:20000]"
   ]
  },
  {
   "cell_type": "code",
   "execution_count": 9,
   "metadata": {
    "execution": {
     "iopub.execute_input": "2023-04-07T17:36:06.226973Z",
     "iopub.status.busy": "2023-04-07T17:36:06.226561Z",
     "iopub.status.idle": "2023-04-07T17:36:06.232893Z",
     "shell.execute_reply": "2023-04-07T17:36:06.232095Z",
     "shell.execute_reply.started": "2023-04-07T17:36:06.226939Z"
    }
   },
   "outputs": [
    {
     "data": {
      "text/plain": [
       "(20000, 4)"
      ]
     },
     "execution_count": 9,
     "metadata": {},
     "output_type": "execute_result"
    }
   ],
   "source": [
    "df.shape"
   ]
  },
  {
   "cell_type": "code",
   "execution_count": 10,
   "metadata": {
    "execution": {
     "iopub.execute_input": "2023-04-07T17:36:07.423380Z",
     "iopub.status.busy": "2023-04-07T17:36:07.422159Z",
     "iopub.status.idle": "2023-04-07T17:36:07.771328Z",
     "shell.execute_reply": "2023-04-07T17:36:07.770309Z",
     "shell.execute_reply.started": "2023-04-07T17:36:07.423334Z"
    }
   },
   "outputs": [],
   "source": [
    "df.to_csv(\"train.csv\", index = None) # Change JSON file to CSV file"
   ]
  },
  {
   "cell_type": "markdown",
   "metadata": {},
   "source": [
    "## Create dictionary of sentence embeddings for faster computation"
   ]
  },
  {
   "cell_type": "code",
   "execution_count": 11,
   "metadata": {
    "execution": {
     "iopub.execute_input": "2023-04-07T17:36:10.876415Z",
     "iopub.status.busy": "2023-04-07T17:36:10.875939Z",
     "iopub.status.idle": "2023-04-07T17:36:10.888088Z",
     "shell.execute_reply": "2023-04-07T17:36:10.887138Z",
     "shell.execute_reply.started": "2023-04-07T17:36:10.876371Z"
    }
   },
   "outputs": [],
   "source": [
    "paras = list(df[\"context\"].drop_duplicates().reset_index(drop= True)) # Create List of all Contexts and drop duplicates"
   ]
  },
  {
   "cell_type": "code",
   "execution_count": 12,
   "metadata": {
    "execution": {
     "iopub.execute_input": "2023-04-07T17:36:13.145123Z",
     "iopub.status.busy": "2023-04-07T17:36:13.144491Z",
     "iopub.status.idle": "2023-04-07T17:36:13.152240Z",
     "shell.execute_reply": "2023-04-07T17:36:13.150876Z",
     "shell.execute_reply.started": "2023-04-07T17:36:13.145085Z"
    }
   },
   "outputs": [
    {
     "data": {
      "text/plain": [
       "4463"
      ]
     },
     "execution_count": 12,
     "metadata": {},
     "output_type": "execute_result"
    }
   ],
   "source": [
    "len(paras)"
   ]
  },
  {
   "cell_type": "code",
   "execution_count": 13,
   "metadata": {
    "execution": {
     "iopub.execute_input": "2023-04-07T17:36:16.963122Z",
     "iopub.status.busy": "2023-04-07T17:36:16.962269Z",
     "iopub.status.idle": "2023-04-07T17:36:18.200903Z",
     "shell.execute_reply": "2023-04-07T17:36:18.199807Z",
     "shell.execute_reply.started": "2023-04-07T17:36:16.963069Z"
    }
   },
   "outputs": [],
   "source": [
    "blob = TextBlob(\" \".join(paras)) \n",
    "sentences = [item.raw for item in blob.sentences]"
   ]
  },
  {
   "cell_type": "code",
   "execution_count": 14,
   "metadata": {
    "execution": {
     "iopub.execute_input": "2023-04-07T17:36:20.249068Z",
     "iopub.status.busy": "2023-04-07T17:36:20.248621Z",
     "iopub.status.idle": "2023-04-07T17:36:20.257598Z",
     "shell.execute_reply": "2023-04-07T17:36:20.256159Z",
     "shell.execute_reply.started": "2023-04-07T17:36:20.249028Z"
    }
   },
   "outputs": [
    {
     "data": {
      "text/plain": [
       "17713"
      ]
     },
     "execution_count": 14,
     "metadata": {},
     "output_type": "execute_result"
    }
   ],
   "source": [
    "len(sentences)"
   ]
  },
  {
   "cell_type": "code",
   "execution_count": 15,
   "metadata": {
    "execution": {
     "iopub.execute_input": "2023-04-07T17:36:25.536706Z",
     "iopub.status.busy": "2023-04-07T17:36:25.536302Z",
     "iopub.status.idle": "2023-04-07T17:36:26.297089Z",
     "shell.execute_reply": "2023-04-07T17:36:26.295660Z",
     "shell.execute_reply.started": "2023-04-07T17:36:25.536671Z"
    }
   },
   "outputs": [
    {
     "data": {
      "text/plain": [
       "<All keys matched successfully>"
      ]
     },
     "execution_count": 15,
     "metadata": {},
     "output_type": "execute_result"
    }
   ],
   "source": [
    "\n",
    "V = 2\n",
    "MODEL_PATH = '/kaggle/working/squad11/infersent%s.pkl' % V\n",
    "params_model = {'bsize': 64, 'word_emb_dim': 300, 'enc_lstm_dim': 2048,\n",
    "                'pool_type': 'max', 'dpout_model': 0.0, 'version': V} # Model Parameters For Infersent Model\n",
    "infersent = InferSent(params_model) # Infersent Pre Trained encoder by Facebook\n",
    "infersent.load_state_dict(torch.load(MODEL_PATH)) # Load Dictionary"
   ]
  },
  {
   "cell_type": "code",
   "execution_count": 16,
   "metadata": {
    "execution": {
     "iopub.execute_input": "2023-04-07T17:36:27.097592Z",
     "iopub.status.busy": "2023-04-07T17:36:27.097116Z",
     "iopub.status.idle": "2023-04-07T17:36:27.102842Z",
     "shell.execute_reply": "2023-04-07T17:36:27.101420Z",
     "shell.execute_reply.started": "2023-04-07T17:36:27.097554Z"
    }
   },
   "outputs": [],
   "source": [
    "W2V_PATH = '/kaggle/working/squad11/crawl-300d-2M.vec'\n",
    "infersent.set_w2v_path(W2V_PATH) # Set the Word To Vector Path for embeddings"
   ]
  },
  {
   "cell_type": "code",
   "execution_count": 17,
   "metadata": {
    "execution": {
     "iopub.execute_input": "2023-04-07T17:36:28.588513Z",
     "iopub.status.busy": "2023-04-07T17:36:28.588089Z",
     "iopub.status.idle": "2023-04-07T17:36:28.599714Z",
     "shell.execute_reply": "2023-04-07T17:36:28.598456Z",
     "shell.execute_reply.started": "2023-04-07T17:36:28.588478Z"
    }
   },
   "outputs": [
    {
     "data": {
      "text/plain": [
       "InferSent(\n",
       "  (enc_lstm): LSTM(300, 2048, bidirectional=True)\n",
       ")"
      ]
     },
     "execution_count": 17,
     "metadata": {},
     "output_type": "execute_result"
    }
   ],
   "source": [
    "infersent"
   ]
  },
  {
   "cell_type": "code",
   "execution_count": 18,
   "metadata": {
    "execution": {
     "iopub.execute_input": "2023-04-07T17:36:30.957488Z",
     "iopub.status.busy": "2023-04-07T17:36:30.956717Z",
     "iopub.status.idle": "2023-04-07T17:36:48.191535Z",
     "shell.execute_reply": "2023-04-07T17:36:48.190323Z",
     "shell.execute_reply.started": "2023-04-07T17:36:30.957448Z"
    }
   },
   "outputs": [
    {
     "name": "stdout",
     "output_type": "stream",
     "text": [
      "Found 34889(/38881) words with w2v vectors\n",
      "Vocab size : 34889\n"
     ]
    }
   ],
   "source": [
    "infersent.build_vocab(sentences, tokenize=True) # Using Function of InferSent Class to build vocabulary"
   ]
  },
  {
   "cell_type": "markdown",
   "metadata": {},
   "source": [
    "## Generating word embeddings"
   ]
  },
  {
   "cell_type": "code",
   "execution_count": 19,
   "metadata": {
    "execution": {
     "iopub.execute_input": "2023-04-07T17:36:55.848118Z",
     "iopub.status.busy": "2023-04-07T17:36:55.847713Z",
     "iopub.status.idle": "2023-04-07T18:27:42.395838Z",
     "shell.execute_reply": "2023-04-07T18:27:42.394261Z",
     "shell.execute_reply.started": "2023-04-07T17:36:55.848082Z"
    }
   },
   "outputs": [],
   "source": [
    "dict_embeddings = {}\n",
    "for i in range(len(sentences)):\n",
    "    dict_embeddings[sentences[i]] = infersent.encode([sentences[i]], tokenize=True) # Encode the sentences in dict_embeddings"
   ]
  },
  {
   "cell_type": "code",
   "execution_count": 20,
   "metadata": {
    "execution": {
     "iopub.execute_input": "2023-04-07T18:27:42.399881Z",
     "iopub.status.busy": "2023-04-07T18:27:42.399084Z",
     "iopub.status.idle": "2023-04-07T18:27:42.444052Z",
     "shell.execute_reply": "2023-04-07T18:27:42.442617Z",
     "shell.execute_reply.started": "2023-04-07T18:27:42.399826Z"
    }
   },
   "outputs": [],
   "source": [
    "questions = list(df[\"question\"]) #Use the question column from df and create a list"
   ]
  },
  {
   "cell_type": "code",
   "execution_count": 21,
   "metadata": {
    "execution": {
     "iopub.execute_input": "2023-04-07T18:27:42.447081Z",
     "iopub.status.busy": "2023-04-07T18:27:42.445743Z",
     "iopub.status.idle": "2023-04-07T18:27:42.461735Z",
     "shell.execute_reply": "2023-04-07T18:27:42.460372Z",
     "shell.execute_reply.started": "2023-04-07T18:27:42.447015Z"
    }
   },
   "outputs": [
    {
     "data": {
      "text/plain": [
       "20000"
      ]
     },
     "execution_count": 21,
     "metadata": {},
     "output_type": "execute_result"
    }
   ],
   "source": [
    "len(questions)"
   ]
  },
  {
   "cell_type": "code",
   "execution_count": 22,
   "metadata": {
    "execution": {
     "iopub.execute_input": "2023-04-07T18:27:42.464417Z",
     "iopub.status.busy": "2023-04-07T18:27:42.464046Z",
     "iopub.status.idle": "2023-04-07T18:55:14.768812Z",
     "shell.execute_reply": "2023-04-07T18:55:14.767329Z",
     "shell.execute_reply.started": "2023-04-07T18:27:42.464382Z"
    }
   },
   "outputs": [],
   "source": [
    "for i in range(len(questions)):\n",
    "    dict_embeddings[questions[i]] = infersent.encode([questions[i]], tokenize=True) # Generate encoding for questions"
   ]
  },
  {
   "cell_type": "markdown",
   "metadata": {},
   "source": [
    "# Create dictionary with each Sentence and corresponding word embeddings array "
   ]
  },
  {
   "cell_type": "code",
   "execution_count": 23,
   "metadata": {
    "execution": {
     "iopub.execute_input": "2023-04-07T18:55:38.493025Z",
     "iopub.status.busy": "2023-04-07T18:55:38.492542Z",
     "iopub.status.idle": "2023-04-07T18:55:38.530021Z",
     "shell.execute_reply": "2023-04-07T18:55:38.528791Z",
     "shell.execute_reply.started": "2023-04-07T18:55:38.492975Z"
    }
   },
   "outputs": [],
   "source": [
    "d1 = {key:dict_embeddings[key] for i, key in enumerate(dict_embeddings) if i % 2 == 0} \n",
    "d2 = {key:dict_embeddings[key] for i, key in enumerate(dict_embeddings) if i % 2 == 1}"
   ]
  },
  {
   "cell_type": "code",
   "execution_count": 24,
   "metadata": {
    "execution": {
     "iopub.execute_input": "2023-04-07T18:55:43.704620Z",
     "iopub.status.busy": "2023-04-07T18:55:43.703608Z",
     "iopub.status.idle": "2023-04-07T18:55:44.071212Z",
     "shell.execute_reply": "2023-04-07T18:55:44.069662Z",
     "shell.execute_reply.started": "2023-04-07T18:55:43.704575Z"
    }
   },
   "outputs": [],
   "source": [
    "train = pd.read_csv(\"train.csv\") # Load the train data CSV file"
   ]
  },
  {
   "cell_type": "code",
   "execution_count": 25,
   "metadata": {
    "execution": {
     "iopub.execute_input": "2023-04-07T18:55:46.722855Z",
     "iopub.status.busy": "2023-04-07T18:55:46.722409Z",
     "iopub.status.idle": "2023-04-07T18:55:46.730707Z",
     "shell.execute_reply": "2023-04-07T18:55:46.729401Z",
     "shell.execute_reply.started": "2023-04-07T18:55:46.722815Z"
    }
   },
   "outputs": [
    {
     "data": {
      "text/plain": [
       "(20000, 4)"
      ]
     },
     "execution_count": 25,
     "metadata": {},
     "output_type": "execute_result"
    }
   ],
   "source": [
    "train.shape"
   ]
  },
  {
   "cell_type": "code",
   "execution_count": 26,
   "metadata": {
    "execution": {
     "iopub.execute_input": "2023-04-07T18:55:49.205464Z",
     "iopub.status.busy": "2023-04-07T18:55:49.204985Z",
     "iopub.status.idle": "2023-04-07T18:55:51.147820Z",
     "shell.execute_reply": "2023-04-07T18:55:51.145866Z",
     "shell.execute_reply.started": "2023-04-07T18:55:49.205414Z"
    }
   },
   "outputs": [],
   "source": [
    "# Open the file and dump the word embeddings in d1 in file\n",
    "with open('dict_1.pickle', 'wb') as handle:\n",
    "    pickle.dump(d1, handle)"
   ]
  },
  {
   "cell_type": "code",
   "execution_count": 27,
   "metadata": {
    "execution": {
     "iopub.execute_input": "2023-04-07T18:56:00.609147Z",
     "iopub.status.busy": "2023-04-07T18:56:00.608321Z",
     "iopub.status.idle": "2023-04-07T18:56:04.055796Z",
     "shell.execute_reply": "2023-04-07T18:56:04.051115Z",
     "shell.execute_reply.started": "2023-04-07T18:56:00.609099Z"
    }
   },
   "outputs": [],
   "source": [
    "# Open the file and dump the word embeddings in d2 in file\n",
    "with open('dict_2.pickle', 'wb') as handle:\n",
    "    pickle.dump(d2, handle)"
   ]
  },
  {
   "cell_type": "markdown",
   "metadata": {},
   "source": [
    "### Loading Embedding dictionary"
   ]
  },
  {
   "cell_type": "code",
   "execution_count": 28,
   "metadata": {
    "execution": {
     "iopub.execute_input": "2023-04-07T18:58:15.120471Z",
     "iopub.status.busy": "2023-04-07T18:58:15.119937Z",
     "iopub.status.idle": "2023-04-07T18:58:15.903642Z",
     "shell.execute_reply": "2023-04-07T18:58:15.902301Z",
     "shell.execute_reply.started": "2023-04-07T18:58:15.120430Z"
    }
   },
   "outputs": [],
   "source": [
    "# Open the pickle file 1 with word embeddings and load to d1\n",
    "with open(\"dict_1.pickle\", \"rb\") as f:\n",
    "    d1 = pickle.load(f)"
   ]
  },
  {
   "cell_type": "code",
   "execution_count": 29,
   "metadata": {
    "execution": {
     "iopub.execute_input": "2023-04-07T18:58:21.109703Z",
     "iopub.status.busy": "2023-04-07T18:58:21.109277Z",
     "iopub.status.idle": "2023-04-07T18:58:21.934030Z",
     "shell.execute_reply": "2023-04-07T18:58:21.932669Z",
     "shell.execute_reply.started": "2023-04-07T18:58:21.109666Z"
    }
   },
   "outputs": [],
   "source": [
    "# Open the pickle file 2 with word embeddings and load to d2\n",
    "with open(\"dict_2.pickle\", \"rb\") as f:\n",
    "    d2 = pickle.load(f)"
   ]
  },
  {
   "cell_type": "code",
   "execution_count": 30,
   "metadata": {
    "execution": {
     "iopub.execute_input": "2023-04-07T18:58:24.611649Z",
     "iopub.status.busy": "2023-04-07T18:58:24.611176Z",
     "iopub.status.idle": "2023-04-07T18:58:24.623015Z",
     "shell.execute_reply": "2023-04-07T18:58:24.621664Z",
     "shell.execute_reply.started": "2023-04-07T18:58:24.611598Z"
    }
   },
   "outputs": [],
   "source": [
    "# Concatenate the two dictionaries with word embeddings in one dict_emb\n",
    "dict_emb = dict(d1)\n",
    "dict_emb.update(d2)"
   ]
  },
  {
   "cell_type": "code",
   "execution_count": 31,
   "metadata": {
    "execution": {
     "iopub.execute_input": "2023-04-07T18:58:26.341078Z",
     "iopub.status.busy": "2023-04-07T18:58:26.340263Z",
     "iopub.status.idle": "2023-04-07T18:58:26.349935Z",
     "shell.execute_reply": "2023-04-07T18:58:26.348459Z",
     "shell.execute_reply.started": "2023-04-07T18:58:26.341021Z"
    }
   },
   "outputs": [
    {
     "data": {
      "text/plain": [
       "37613"
      ]
     },
     "execution_count": 31,
     "metadata": {},
     "output_type": "execute_result"
    }
   ],
   "source": [
    "len(dict_emb)"
   ]
  },
  {
   "cell_type": "markdown",
   "metadata": {},
   "source": [
    "## Data Pre-Processing"
   ]
  },
  {
   "cell_type": "code",
   "execution_count": 32,
   "metadata": {
    "execution": {
     "iopub.execute_input": "2023-04-07T18:58:32.318534Z",
     "iopub.status.busy": "2023-04-07T18:58:32.317973Z",
     "iopub.status.idle": "2023-04-07T18:58:32.326243Z",
     "shell.execute_reply": "2023-04-07T18:58:32.324492Z",
     "shell.execute_reply.started": "2023-04-07T18:58:32.318490Z"
    }
   },
   "outputs": [],
   "source": [
    "# This function sets the value of column Target which is the sentence number in the paragraph which contains the answer.\n",
    "def get_target(x):\n",
    "    idx = -1\n",
    "    for i in range(len(x[\"sentences\"])):\n",
    "        if x[\"text\"] in x[\"sentences\"][i]: idx = i\n",
    "    return idx"
   ]
  },
  {
   "cell_type": "code",
   "execution_count": 33,
   "metadata": {
    "execution": {
     "iopub.execute_input": "2023-04-07T18:58:36.831926Z",
     "iopub.status.busy": "2023-04-07T18:58:36.831509Z",
     "iopub.status.idle": "2023-04-07T18:58:36.864746Z",
     "shell.execute_reply": "2023-04-07T18:58:36.863479Z",
     "shell.execute_reply.started": "2023-04-07T18:58:36.831890Z"
    }
   },
   "outputs": [
    {
     "data": {
      "text/html": [
       "<div>\n",
       "<style scoped>\n",
       "    .dataframe tbody tr th:only-of-type {\n",
       "        vertical-align: middle;\n",
       "    }\n",
       "\n",
       "    .dataframe tbody tr th {\n",
       "        vertical-align: top;\n",
       "    }\n",
       "\n",
       "    .dataframe thead th {\n",
       "        text-align: right;\n",
       "    }\n",
       "</style>\n",
       "<table border=\"1\" class=\"dataframe\">\n",
       "  <thead>\n",
       "    <tr style=\"text-align: right;\">\n",
       "      <th></th>\n",
       "      <th>context</th>\n",
       "      <th>question</th>\n",
       "      <th>answer_start</th>\n",
       "      <th>text</th>\n",
       "    </tr>\n",
       "  </thead>\n",
       "  <tbody>\n",
       "    <tr>\n",
       "      <th>0</th>\n",
       "      <td>Architecturally, the school has a Catholic cha...</td>\n",
       "      <td>To whom did the Virgin Mary allegedly appear i...</td>\n",
       "      <td>515</td>\n",
       "      <td>Saint Bernadette Soubirous</td>\n",
       "    </tr>\n",
       "    <tr>\n",
       "      <th>1</th>\n",
       "      <td>Architecturally, the school has a Catholic cha...</td>\n",
       "      <td>What is in front of the Notre Dame Main Building?</td>\n",
       "      <td>188</td>\n",
       "      <td>a copper statue of Christ</td>\n",
       "    </tr>\n",
       "    <tr>\n",
       "      <th>2</th>\n",
       "      <td>Architecturally, the school has a Catholic cha...</td>\n",
       "      <td>The Basilica of the Sacred heart at Notre Dame...</td>\n",
       "      <td>279</td>\n",
       "      <td>the Main Building</td>\n",
       "    </tr>\n",
       "  </tbody>\n",
       "</table>\n",
       "</div>"
      ],
      "text/plain": [
       "                                             context  \\\n",
       "0  Architecturally, the school has a Catholic cha...   \n",
       "1  Architecturally, the school has a Catholic cha...   \n",
       "2  Architecturally, the school has a Catholic cha...   \n",
       "\n",
       "                                            question  answer_start  \\\n",
       "0  To whom did the Virgin Mary allegedly appear i...           515   \n",
       "1  What is in front of the Notre Dame Main Building?           188   \n",
       "2  The Basilica of the Sacred heart at Notre Dame...           279   \n",
       "\n",
       "                         text  \n",
       "0  Saint Bernadette Soubirous  \n",
       "1   a copper statue of Christ  \n",
       "2           the Main Building  "
      ]
     },
     "execution_count": 33,
     "metadata": {},
     "output_type": "execute_result"
    }
   ],
   "source": [
    "train.head(3)"
   ]
  },
  {
   "cell_type": "code",
   "execution_count": 34,
   "metadata": {
    "execution": {
     "iopub.execute_input": "2023-04-07T18:58:39.231825Z",
     "iopub.status.busy": "2023-04-07T18:58:39.230630Z",
     "iopub.status.idle": "2023-04-07T18:58:39.238786Z",
     "shell.execute_reply": "2023-04-07T18:58:39.237774Z",
     "shell.execute_reply.started": "2023-04-07T18:58:39.231780Z"
    }
   },
   "outputs": [
    {
     "data": {
      "text/plain": [
       "(20000, 4)"
      ]
     },
     "execution_count": 34,
     "metadata": {},
     "output_type": "execute_result"
    }
   ],
   "source": [
    "train.shape"
   ]
  },
  {
   "cell_type": "code",
   "execution_count": 35,
   "metadata": {
    "execution": {
     "iopub.execute_input": "2023-04-07T18:58:43.468593Z",
     "iopub.status.busy": "2023-04-07T18:58:43.468137Z",
     "iopub.status.idle": "2023-04-07T18:58:43.493351Z",
     "shell.execute_reply": "2023-04-07T18:58:43.492280Z",
     "shell.execute_reply.started": "2023-04-07T18:58:43.468556Z"
    }
   },
   "outputs": [],
   "source": [
    "# Use of dropna function to drop null values using inplace=True to make the changes in CSV file automatic \n",
    "train.dropna(inplace=True)"
   ]
  },
  {
   "cell_type": "markdown",
   "metadata": {},
   "source": [
    "## Processing Data"
   ]
  },
  {
   "cell_type": "code",
   "execution_count": 36,
   "metadata": {
    "execution": {
     "iopub.execute_input": "2023-04-07T18:59:03.102165Z",
     "iopub.status.busy": "2023-04-07T18:59:03.101446Z",
     "iopub.status.idle": "2023-04-07T18:59:03.111564Z",
     "shell.execute_reply": "2023-04-07T18:59:03.110192Z",
     "shell.execute_reply.started": "2023-04-07T18:59:03.102119Z"
    }
   },
   "outputs": [],
   "source": [
    "# This function to add the extra columns to the training data: sentences, target, sent_emb, quest_emb\n",
    "def process_data(train):\n",
    "    \n",
    "    print(\"step 1\")\n",
    "    train['sentences'] = train['context'].apply(lambda x: [item.raw for item in TextBlob(x).sentences])\n",
    "    \n",
    "    print(\"step 2\")\n",
    "    train[\"target\"] = train.apply(get_target, axis = 1)\n",
    "    \n",
    "    print(\"step 3\")\n",
    "    train['sent_emb'] = train['sentences'].apply(lambda x: [dict_emb[item][0] if item in\n",
    "                                                           dict_emb else np.zeros(4096) for item in x])\n",
    "    print(\"step 4\")\n",
    "    train['quest_emb'] = train['question'].apply(lambda x: dict_emb[x] if x in dict_emb else np.zeros(4096) )\n",
    "        \n",
    "    return train   "
   ]
  },
  {
   "cell_type": "code",
   "execution_count": 37,
   "metadata": {
    "execution": {
     "iopub.execute_input": "2023-04-07T18:59:11.393363Z",
     "iopub.status.busy": "2023-04-07T18:59:11.392158Z",
     "iopub.status.idle": "2023-04-07T18:59:18.444423Z",
     "shell.execute_reply": "2023-04-07T18:59:18.443086Z",
     "shell.execute_reply.started": "2023-04-07T18:59:11.393312Z"
    }
   },
   "outputs": [
    {
     "name": "stdout",
     "output_type": "stream",
     "text": [
      "step 1\n",
      "step 2\n",
      "step 3\n",
      "step 4\n"
     ]
    }
   ],
   "source": [
    "# Run this to process data to add columns \n",
    "train = process_data(train)"
   ]
  },
  {
   "cell_type": "code",
   "execution_count": 38,
   "metadata": {
    "execution": {
     "iopub.execute_input": "2023-04-07T18:59:23.118889Z",
     "iopub.status.busy": "2023-04-07T18:59:23.118491Z",
     "iopub.status.idle": "2023-04-07T18:59:23.126245Z",
     "shell.execute_reply": "2023-04-07T18:59:23.125050Z",
     "shell.execute_reply.started": "2023-04-07T18:59:23.118858Z"
    }
   },
   "outputs": [
    {
     "data": {
      "text/plain": [
       "(20000, 8)"
      ]
     },
     "execution_count": 38,
     "metadata": {},
     "output_type": "execute_result"
    }
   ],
   "source": [
    "train.shape"
   ]
  },
  {
   "cell_type": "code",
   "execution_count": 39,
   "metadata": {
    "execution": {
     "iopub.execute_input": "2023-04-07T18:59:24.264225Z",
     "iopub.status.busy": "2023-04-07T18:59:24.263764Z",
     "iopub.status.idle": "2023-04-07T18:59:24.316514Z",
     "shell.execute_reply": "2023-04-07T18:59:24.315293Z",
     "shell.execute_reply.started": "2023-04-07T18:59:24.264174Z"
    }
   },
   "outputs": [
    {
     "data": {
      "text/html": [
       "<div>\n",
       "<style scoped>\n",
       "    .dataframe tbody tr th:only-of-type {\n",
       "        vertical-align: middle;\n",
       "    }\n",
       "\n",
       "    .dataframe tbody tr th {\n",
       "        vertical-align: top;\n",
       "    }\n",
       "\n",
       "    .dataframe thead th {\n",
       "        text-align: right;\n",
       "    }\n",
       "</style>\n",
       "<table border=\"1\" class=\"dataframe\">\n",
       "  <thead>\n",
       "    <tr style=\"text-align: right;\">\n",
       "      <th></th>\n",
       "      <th>context</th>\n",
       "      <th>question</th>\n",
       "      <th>answer_start</th>\n",
       "      <th>text</th>\n",
       "      <th>sentences</th>\n",
       "      <th>target</th>\n",
       "      <th>sent_emb</th>\n",
       "      <th>quest_emb</th>\n",
       "    </tr>\n",
       "  </thead>\n",
       "  <tbody>\n",
       "    <tr>\n",
       "      <th>0</th>\n",
       "      <td>Architecturally, the school has a Catholic cha...</td>\n",
       "      <td>To whom did the Virgin Mary allegedly appear i...</td>\n",
       "      <td>515</td>\n",
       "      <td>Saint Bernadette Soubirous</td>\n",
       "      <td>[Architecturally, the school has a Catholic ch...</td>\n",
       "      <td>5</td>\n",
       "      <td>[[0.0074688885, -0.050863117, 0.007364763, -0....</td>\n",
       "      <td>[[0.0074688885, 0.024210272, 0.069616325, -0.0...</td>\n",
       "    </tr>\n",
       "    <tr>\n",
       "      <th>1</th>\n",
       "      <td>Architecturally, the school has a Catholic cha...</td>\n",
       "      <td>What is in front of the Notre Dame Main Building?</td>\n",
       "      <td>188</td>\n",
       "      <td>a copper statue of Christ</td>\n",
       "      <td>[Architecturally, the school has a Catholic ch...</td>\n",
       "      <td>2</td>\n",
       "      <td>[[0.0074688885, -0.050863117, 0.007364763, -0....</td>\n",
       "      <td>[[0.0074688885, -0.033483382, 0.040545918, -0....</td>\n",
       "    </tr>\n",
       "    <tr>\n",
       "      <th>2</th>\n",
       "      <td>Architecturally, the school has a Catholic cha...</td>\n",
       "      <td>The Basilica of the Sacred heart at Notre Dame...</td>\n",
       "      <td>279</td>\n",
       "      <td>the Main Building</td>\n",
       "      <td>[Architecturally, the school has a Catholic ch...</td>\n",
       "      <td>3</td>\n",
       "      <td>[[0.0074688885, -0.050863117, 0.007364763, -0....</td>\n",
       "      <td>[[0.0074688885, -0.043944724, 0.14385942, -0.0...</td>\n",
       "    </tr>\n",
       "  </tbody>\n",
       "</table>\n",
       "</div>"
      ],
      "text/plain": [
       "                                             context  \\\n",
       "0  Architecturally, the school has a Catholic cha...   \n",
       "1  Architecturally, the school has a Catholic cha...   \n",
       "2  Architecturally, the school has a Catholic cha...   \n",
       "\n",
       "                                            question  answer_start  \\\n",
       "0  To whom did the Virgin Mary allegedly appear i...           515   \n",
       "1  What is in front of the Notre Dame Main Building?           188   \n",
       "2  The Basilica of the Sacred heart at Notre Dame...           279   \n",
       "\n",
       "                         text  \\\n",
       "0  Saint Bernadette Soubirous   \n",
       "1   a copper statue of Christ   \n",
       "2           the Main Building   \n",
       "\n",
       "                                           sentences  target  \\\n",
       "0  [Architecturally, the school has a Catholic ch...       5   \n",
       "1  [Architecturally, the school has a Catholic ch...       2   \n",
       "2  [Architecturally, the school has a Catholic ch...       3   \n",
       "\n",
       "                                            sent_emb  \\\n",
       "0  [[0.0074688885, -0.050863117, 0.007364763, -0....   \n",
       "1  [[0.0074688885, -0.050863117, 0.007364763, -0....   \n",
       "2  [[0.0074688885, -0.050863117, 0.007364763, -0....   \n",
       "\n",
       "                                           quest_emb  \n",
       "0  [[0.0074688885, 0.024210272, 0.069616325, -0.0...  \n",
       "1  [[0.0074688885, -0.033483382, 0.040545918, -0....  \n",
       "2  [[0.0074688885, -0.043944724, 0.14385942, -0.0...  "
      ]
     },
     "execution_count": 39,
     "metadata": {},
     "output_type": "execute_result"
    }
   ],
   "source": [
    "train.head(3)"
   ]
  },
  {
   "cell_type": "markdown",
   "metadata": {},
   "source": [
    "## Predicted Cosine & Euclidean Index"
   ]
  },
  {
   "cell_type": "code",
   "execution_count": 40,
   "metadata": {
    "execution": {
     "iopub.execute_input": "2023-04-07T18:59:32.508847Z",
     "iopub.status.busy": "2023-04-07T18:59:32.507665Z",
     "iopub.status.idle": "2023-04-07T18:59:32.514810Z",
     "shell.execute_reply": "2023-04-07T18:59:32.513713Z",
     "shell.execute_reply.started": "2023-04-07T18:59:32.508801Z"
    }
   },
   "outputs": [],
   "source": [
    "#Find the Cosine similarity Between Question and Answer \n",
    "def cosine_sim(x):\n",
    "    li = []\n",
    "    for item in x[\"sent_emb\"]:\n",
    "        li.append(spatial.distance.cosine(item,x[\"quest_emb\"][0]))\n",
    "    return li   "
   ]
  },
  {
   "cell_type": "code",
   "execution_count": 41,
   "metadata": {
    "execution": {
     "iopub.execute_input": "2023-04-07T18:59:36.546531Z",
     "iopub.status.busy": "2023-04-07T18:59:36.546071Z",
     "iopub.status.idle": "2023-04-07T18:59:36.552595Z",
     "shell.execute_reply": "2023-04-07T18:59:36.551297Z",
     "shell.execute_reply.started": "2023-04-07T18:59:36.546492Z"
    }
   },
   "outputs": [],
   "source": [
    "#This function is to find the argmin between all the distances of a single sentence array to find the predicted target ...\n",
    "#sentence number\n",
    "def pred_idx(distances):\n",
    "    return np.argmin(distances)"
   ]
  },
  {
   "cell_type": "code",
   "execution_count": 42,
   "metadata": {
    "execution": {
     "iopub.execute_input": "2023-04-07T18:59:42.416118Z",
     "iopub.status.busy": "2023-04-07T18:59:42.415373Z",
     "iopub.status.idle": "2023-04-07T18:59:42.424549Z",
     "shell.execute_reply": "2023-04-07T18:59:42.423244Z",
     "shell.execute_reply.started": "2023-04-07T18:59:42.416072Z"
    }
   },
   "outputs": [],
   "source": [
    "# The euclidean distance and cosine similarity are calculated and predictions are made using above function and stored \n",
    "def predictions(train):\n",
    "    \n",
    "    train[\"cosine_sim\"] = train.apply(cosine_sim, axis = 1)\n",
    "    train[\"diff\"] = (train[\"quest_emb\"] - train[\"sent_emb\"])**2\n",
    "    train[\"euclidean_dis\"] = train[\"diff\"].apply(lambda x: list(np.sum(x, axis = 1)))\n",
    "    del train[\"diff\"]\n",
    "    \n",
    "    print(\"cosine start\")\n",
    "    \n",
    "    train[\"pred_idx_cos\"] = train[\"cosine_sim\"].apply(lambda x: pred_idx(x))\n",
    "    train[\"pred_idx_euc\"] = train[\"euclidean_dis\"].apply(lambda x: pred_idx(x))\n",
    "    \n",
    "    return train"
   ]
  },
  {
   "cell_type": "code",
   "execution_count": 43,
   "metadata": {
    "execution": {
     "iopub.execute_input": "2023-04-07T18:59:47.276113Z",
     "iopub.status.busy": "2023-04-07T18:59:47.275258Z",
     "iopub.status.idle": "2023-04-07T19:00:02.496949Z",
     "shell.execute_reply": "2023-04-07T19:00:02.495531Z",
     "shell.execute_reply.started": "2023-04-07T18:59:47.276070Z"
    }
   },
   "outputs": [
    {
     "name": "stdout",
     "output_type": "stream",
     "text": [
      "cosine start\n"
     ]
    }
   ],
   "source": [
    "#Call to make the predictions\n",
    "predicted = predictions(train)"
   ]
  },
  {
   "cell_type": "code",
   "execution_count": 44,
   "metadata": {
    "execution": {
     "iopub.execute_input": "2023-04-07T19:00:07.948500Z",
     "iopub.status.busy": "2023-04-07T19:00:07.948070Z",
     "iopub.status.idle": "2023-04-07T19:00:07.956748Z",
     "shell.execute_reply": "2023-04-07T19:00:07.955310Z",
     "shell.execute_reply.started": "2023-04-07T19:00:07.948464Z"
    }
   },
   "outputs": [
    {
     "data": {
      "text/plain": [
       "(20000, 12)"
      ]
     },
     "execution_count": 44,
     "metadata": {},
     "output_type": "execute_result"
    }
   ],
   "source": [
    "predicted.shape"
   ]
  },
  {
   "cell_type": "code",
   "execution_count": 45,
   "metadata": {
    "execution": {
     "iopub.execute_input": "2023-04-07T19:00:09.380699Z",
     "iopub.status.busy": "2023-04-07T19:00:09.380285Z",
     "iopub.status.idle": "2023-04-07T19:00:09.433421Z",
     "shell.execute_reply": "2023-04-07T19:00:09.432117Z",
     "shell.execute_reply.started": "2023-04-07T19:00:09.380665Z"
    }
   },
   "outputs": [
    {
     "data": {
      "text/html": [
       "<div>\n",
       "<style scoped>\n",
       "    .dataframe tbody tr th:only-of-type {\n",
       "        vertical-align: middle;\n",
       "    }\n",
       "\n",
       "    .dataframe tbody tr th {\n",
       "        vertical-align: top;\n",
       "    }\n",
       "\n",
       "    .dataframe thead th {\n",
       "        text-align: right;\n",
       "    }\n",
       "</style>\n",
       "<table border=\"1\" class=\"dataframe\">\n",
       "  <thead>\n",
       "    <tr style=\"text-align: right;\">\n",
       "      <th></th>\n",
       "      <th>context</th>\n",
       "      <th>question</th>\n",
       "      <th>answer_start</th>\n",
       "      <th>text</th>\n",
       "      <th>sentences</th>\n",
       "      <th>target</th>\n",
       "      <th>sent_emb</th>\n",
       "      <th>quest_emb</th>\n",
       "      <th>cosine_sim</th>\n",
       "      <th>euclidean_dis</th>\n",
       "      <th>pred_idx_cos</th>\n",
       "      <th>pred_idx_euc</th>\n",
       "    </tr>\n",
       "  </thead>\n",
       "  <tbody>\n",
       "    <tr>\n",
       "      <th>0</th>\n",
       "      <td>Architecturally, the school has a Catholic cha...</td>\n",
       "      <td>To whom did the Virgin Mary allegedly appear i...</td>\n",
       "      <td>515</td>\n",
       "      <td>Saint Bernadette Soubirous</td>\n",
       "      <td>[Architecturally, the school has a Catholic ch...</td>\n",
       "      <td>5</td>\n",
       "      <td>[[0.0074688885, -0.050863117, 0.007364763, -0....</td>\n",
       "      <td>[[0.0074688885, 0.024210272, 0.069616325, -0.0...</td>\n",
       "      <td>[0.6835565567016602, 0.5527453124523163, 0.574...</td>\n",
       "      <td>[7.301305, 6.4764132, 7.214262, 6.9176197, 6.5...</td>\n",
       "      <td>5</td>\n",
       "      <td>5</td>\n",
       "    </tr>\n",
       "    <tr>\n",
       "      <th>1</th>\n",
       "      <td>Architecturally, the school has a Catholic cha...</td>\n",
       "      <td>What is in front of the Notre Dame Main Building?</td>\n",
       "      <td>188</td>\n",
       "      <td>a copper statue of Christ</td>\n",
       "      <td>[Architecturally, the school has a Catholic ch...</td>\n",
       "      <td>2</td>\n",
       "      <td>[[0.0074688885, -0.050863117, 0.007364763, -0....</td>\n",
       "      <td>[[0.0074688885, -0.033483382, 0.040545918, -0....</td>\n",
       "      <td>[0.6624992787837982, 0.5191770792007446, 0.592...</td>\n",
       "      <td>[5.717004, 5.076439, 6.3408985, 3.5867877, 4.8...</td>\n",
       "      <td>3</td>\n",
       "      <td>3</td>\n",
       "    </tr>\n",
       "    <tr>\n",
       "      <th>2</th>\n",
       "      <td>Architecturally, the school has a Catholic cha...</td>\n",
       "      <td>The Basilica of the Sacred heart at Notre Dame...</td>\n",
       "      <td>279</td>\n",
       "      <td>the Main Building</td>\n",
       "      <td>[Architecturally, the school has a Catholic ch...</td>\n",
       "      <td>3</td>\n",
       "      <td>[[0.0074688885, -0.050863117, 0.007364763, -0....</td>\n",
       "      <td>[[0.0074688885, -0.043944724, 0.14385942, -0.0...</td>\n",
       "      <td>[0.5955168306827545, 0.4985509514808655, 0.539...</td>\n",
       "      <td>[5.209466, 4.929249, 5.8485556, 2.803293, 3.64...</td>\n",
       "      <td>3</td>\n",
       "      <td>3</td>\n",
       "    </tr>\n",
       "  </tbody>\n",
       "</table>\n",
       "</div>"
      ],
      "text/plain": [
       "                                             context  \\\n",
       "0  Architecturally, the school has a Catholic cha...   \n",
       "1  Architecturally, the school has a Catholic cha...   \n",
       "2  Architecturally, the school has a Catholic cha...   \n",
       "\n",
       "                                            question  answer_start  \\\n",
       "0  To whom did the Virgin Mary allegedly appear i...           515   \n",
       "1  What is in front of the Notre Dame Main Building?           188   \n",
       "2  The Basilica of the Sacred heart at Notre Dame...           279   \n",
       "\n",
       "                         text  \\\n",
       "0  Saint Bernadette Soubirous   \n",
       "1   a copper statue of Christ   \n",
       "2           the Main Building   \n",
       "\n",
       "                                           sentences  target  \\\n",
       "0  [Architecturally, the school has a Catholic ch...       5   \n",
       "1  [Architecturally, the school has a Catholic ch...       2   \n",
       "2  [Architecturally, the school has a Catholic ch...       3   \n",
       "\n",
       "                                            sent_emb  \\\n",
       "0  [[0.0074688885, -0.050863117, 0.007364763, -0....   \n",
       "1  [[0.0074688885, -0.050863117, 0.007364763, -0....   \n",
       "2  [[0.0074688885, -0.050863117, 0.007364763, -0....   \n",
       "\n",
       "                                           quest_emb  \\\n",
       "0  [[0.0074688885, 0.024210272, 0.069616325, -0.0...   \n",
       "1  [[0.0074688885, -0.033483382, 0.040545918, -0....   \n",
       "2  [[0.0074688885, -0.043944724, 0.14385942, -0.0...   \n",
       "\n",
       "                                          cosine_sim  \\\n",
       "0  [0.6835565567016602, 0.5527453124523163, 0.574...   \n",
       "1  [0.6624992787837982, 0.5191770792007446, 0.592...   \n",
       "2  [0.5955168306827545, 0.4985509514808655, 0.539...   \n",
       "\n",
       "                                       euclidean_dis  pred_idx_cos  \\\n",
       "0  [7.301305, 6.4764132, 7.214262, 6.9176197, 6.5...             5   \n",
       "1  [5.717004, 5.076439, 6.3408985, 3.5867877, 4.8...             3   \n",
       "2  [5.209466, 4.929249, 5.8485556, 2.803293, 3.64...             3   \n",
       "\n",
       "   pred_idx_euc  \n",
       "0             5  \n",
       "1             3  \n",
       "2             3  "
      ]
     },
     "execution_count": 45,
     "metadata": {},
     "output_type": "execute_result"
    }
   ],
   "source": [
    "predicted.head(3)"
   ]
  },
  {
   "cell_type": "code",
   "execution_count": 46,
   "metadata": {
    "execution": {
     "iopub.execute_input": "2023-04-07T19:00:14.169646Z",
     "iopub.status.busy": "2023-04-07T19:00:14.168587Z",
     "iopub.status.idle": "2023-04-07T19:00:14.177971Z",
     "shell.execute_reply": "2023-04-07T19:00:14.176721Z",
     "shell.execute_reply.started": "2023-04-07T19:00:14.169604Z"
    }
   },
   "outputs": [
    {
     "data": {
      "text/plain": [
       "[0.6835565567016602,\n",
       " 0.5527453124523163,\n",
       " 0.5747938454151154,\n",
       " 0.624308854341507,\n",
       " 0.619026243686676,\n",
       " 0.25835102796554565,\n",
       " 0.5743658542633057]"
      ]
     },
     "execution_count": 46,
     "metadata": {},
     "output_type": "execute_result"
    }
   ],
   "source": [
    "predicted[\"cosine_sim\"][0]"
   ]
  },
  {
   "cell_type": "code",
   "execution_count": 47,
   "metadata": {
    "execution": {
     "iopub.execute_input": "2023-04-07T19:00:15.624689Z",
     "iopub.status.busy": "2023-04-07T19:00:15.624278Z",
     "iopub.status.idle": "2023-04-07T19:00:15.633166Z",
     "shell.execute_reply": "2023-04-07T19:00:15.631890Z",
     "shell.execute_reply.started": "2023-04-07T19:00:15.624656Z"
    }
   },
   "outputs": [
    {
     "data": {
      "text/plain": [
       "[7.301305, 6.4764132, 7.214262, 6.9176197, 6.519748, 3.6410067, 6.9080434]"
      ]
     },
     "execution_count": 47,
     "metadata": {},
     "output_type": "execute_result"
    }
   ],
   "source": [
    "predicted[\"euclidean_dis\"][0]"
   ]
  },
  {
   "cell_type": "markdown",
   "metadata": {},
   "source": [
    "## Accuracy"
   ]
  },
  {
   "cell_type": "code",
   "execution_count": 48,
   "metadata": {
    "execution": {
     "iopub.execute_input": "2023-04-07T19:00:19.649031Z",
     "iopub.status.busy": "2023-04-07T19:00:19.648085Z",
     "iopub.status.idle": "2023-04-07T19:00:19.655499Z",
     "shell.execute_reply": "2023-04-07T19:00:19.654127Z",
     "shell.execute_reply.started": "2023-04-07T19:00:19.648991Z"
    }
   },
   "outputs": [],
   "source": [
    "# Calculate the accuracy between predicted and target values\n",
    "def accuracy(target, predicted):\n",
    "    acc = (target==predicted).sum()/len(target)\n",
    "    return acc"
   ]
  },
  {
   "cell_type": "markdown",
   "metadata": {},
   "source": [
    "### Accuracy for  euclidean Distance"
   ]
  },
  {
   "cell_type": "code",
   "execution_count": 49,
   "metadata": {
    "execution": {
     "iopub.execute_input": "2023-04-07T19:00:23.228186Z",
     "iopub.status.busy": "2023-04-07T19:00:23.227738Z",
     "iopub.status.idle": "2023-04-07T19:00:23.235370Z",
     "shell.execute_reply": "2023-04-07T19:00:23.234267Z",
     "shell.execute_reply.started": "2023-04-07T19:00:23.228147Z"
    }
   },
   "outputs": [
    {
     "name": "stdout",
     "output_type": "stream",
     "text": [
      "0.5296\n"
     ]
    }
   ],
   "source": [
    "print(accuracy(predicted[\"target\"], predicted[\"pred_idx_euc\"]))"
   ]
  },
  {
   "cell_type": "markdown",
   "metadata": {},
   "source": [
    "### Accuracy for Cosine Similarity"
   ]
  },
  {
   "cell_type": "code",
   "execution_count": 50,
   "metadata": {
    "execution": {
     "iopub.execute_input": "2023-04-07T19:00:26.698867Z",
     "iopub.status.busy": "2023-04-07T19:00:26.698426Z",
     "iopub.status.idle": "2023-04-07T19:00:26.706754Z",
     "shell.execute_reply": "2023-04-07T19:00:26.705547Z",
     "shell.execute_reply.started": "2023-04-07T19:00:26.698825Z"
    }
   },
   "outputs": [
    {
     "name": "stdout",
     "output_type": "stream",
     "text": [
      "0.62515\n"
     ]
    }
   ],
   "source": [
    "print(accuracy(predicted[\"target\"], predicted[\"pred_idx_cos\"]))"
   ]
  },
  {
   "cell_type": "code",
   "execution_count": 51,
   "metadata": {
    "execution": {
     "iopub.execute_input": "2023-04-07T19:00:29.847227Z",
     "iopub.status.busy": "2023-04-07T19:00:29.846539Z",
     "iopub.status.idle": "2023-04-07T19:00:48.682605Z",
     "shell.execute_reply": "2023-04-07T19:00:48.681439Z",
     "shell.execute_reply.started": "2023-04-07T19:00:29.847166Z"
    }
   },
   "outputs": [],
   "source": [
    "#Write back the final data with predicted values to a CSV file\n",
    "predicted.to_csv(\"train_detect_sent.csv\", index=None)"
   ]
  },
  {
   "cell_type": "code",
   "execution_count": 127,
   "metadata": {
    "execution": {
     "iopub.execute_input": "2023-04-07T19:13:23.584965Z",
     "iopub.status.busy": "2023-04-07T19:13:23.584524Z",
     "iopub.status.idle": "2023-04-07T19:13:24.077843Z",
     "shell.execute_reply": "2023-04-07T19:13:24.076377Z",
     "shell.execute_reply.started": "2023-04-07T19:13:23.584928Z"
    }
   },
   "outputs": [],
   "source": [
    "#Read the new CSV file\n",
    "predicted = pd.read_csv(\"train_detect_sent.csv\").reset_index(drop=True)"
   ]
  },
  {
   "cell_type": "code",
   "execution_count": 128,
   "metadata": {
    "execution": {
     "iopub.execute_input": "2023-04-07T19:13:26.424152Z",
     "iopub.status.busy": "2023-04-07T19:13:26.423711Z",
     "iopub.status.idle": "2023-04-07T19:13:28.177107Z",
     "shell.execute_reply": "2023-04-07T19:13:28.175866Z",
     "shell.execute_reply.started": "2023-04-07T19:13:26.424113Z"
    }
   },
   "outputs": [],
   "source": [
    "#Use spaCy Open source Library to load the data needed for to process for English Language\n",
    "en_nlp=spacy.load('en_core_web_md')\n",
    "doc = en_nlp(predicted.iloc[0,1])"
   ]
  },
  {
   "cell_type": "code",
   "execution_count": 131,
   "metadata": {
    "execution": {
     "iopub.execute_input": "2023-04-07T19:14:10.072819Z",
     "iopub.status.busy": "2023-04-07T19:14:10.072407Z",
     "iopub.status.idle": "2023-04-07T19:14:10.098278Z",
     "shell.execute_reply": "2023-04-07T19:14:10.097288Z",
     "shell.execute_reply.started": "2023-04-07T19:14:10.072786Z"
    }
   },
   "outputs": [
    {
     "data": {
      "text/html": [
       "<div>\n",
       "<style scoped>\n",
       "    .dataframe tbody tr th:only-of-type {\n",
       "        vertical-align: middle;\n",
       "    }\n",
       "\n",
       "    .dataframe tbody tr th {\n",
       "        vertical-align: top;\n",
       "    }\n",
       "\n",
       "    .dataframe thead th {\n",
       "        text-align: right;\n",
       "    }\n",
       "</style>\n",
       "<table border=\"1\" class=\"dataframe\">\n",
       "  <thead>\n",
       "    <tr style=\"text-align: right;\">\n",
       "      <th></th>\n",
       "      <th>context</th>\n",
       "      <th>question</th>\n",
       "      <th>answer_start</th>\n",
       "      <th>text</th>\n",
       "      <th>sentences</th>\n",
       "      <th>target</th>\n",
       "      <th>sent_emb</th>\n",
       "      <th>quest_emb</th>\n",
       "      <th>cosine_sim</th>\n",
       "      <th>euclidean_dis</th>\n",
       "      <th>pred_idx_cos</th>\n",
       "      <th>pred_idx_euc</th>\n",
       "    </tr>\n",
       "  </thead>\n",
       "  <tbody>\n",
       "    <tr>\n",
       "      <th>0</th>\n",
       "      <td>Architecturally, the school has a Catholic cha...</td>\n",
       "      <td>To whom did the Virgin Mary allegedly appear i...</td>\n",
       "      <td>515</td>\n",
       "      <td>Saint Bernadette Soubirous</td>\n",
       "      <td>['Architecturally, the school has a Catholic c...</td>\n",
       "      <td>5</td>\n",
       "      <td>[array([ 0.00746889, -0.05086312,  0.00736476,...</td>\n",
       "      <td>[[ 0.00746889  0.02421027  0.06961633 ...  0.0...</td>\n",
       "      <td>[0.6835565567016602, 0.5527453124523163, 0.574...</td>\n",
       "      <td>[7.301305, 6.4764132, 7.214262, 6.9176197, 6.5...</td>\n",
       "      <td>5</td>\n",
       "      <td>5</td>\n",
       "    </tr>\n",
       "    <tr>\n",
       "      <th>1</th>\n",
       "      <td>Architecturally, the school has a Catholic cha...</td>\n",
       "      <td>What is in front of the Notre Dame Main Building?</td>\n",
       "      <td>188</td>\n",
       "      <td>a copper statue of Christ</td>\n",
       "      <td>['Architecturally, the school has a Catholic c...</td>\n",
       "      <td>2</td>\n",
       "      <td>[array([ 0.00746889, -0.05086312,  0.00736476,...</td>\n",
       "      <td>[[ 0.00746889 -0.03348338  0.04054592 ... -0.0...</td>\n",
       "      <td>[0.6624992787837982, 0.5191770792007446, 0.592...</td>\n",
       "      <td>[5.717004, 5.076439, 6.3408985, 3.5867877, 4.8...</td>\n",
       "      <td>3</td>\n",
       "      <td>3</td>\n",
       "    </tr>\n",
       "    <tr>\n",
       "      <th>2</th>\n",
       "      <td>Architecturally, the school has a Catholic cha...</td>\n",
       "      <td>The Basilica of the Sacred heart at Notre Dame...</td>\n",
       "      <td>279</td>\n",
       "      <td>the Main Building</td>\n",
       "      <td>['Architecturally, the school has a Catholic c...</td>\n",
       "      <td>3</td>\n",
       "      <td>[array([ 0.00746889, -0.05086312,  0.00736476,...</td>\n",
       "      <td>[[ 0.00746889 -0.04394472  0.14385942 ...  0.0...</td>\n",
       "      <td>[0.5955168306827545, 0.4985509514808655, 0.539...</td>\n",
       "      <td>[5.209466, 4.929249, 5.8485556, 2.803293, 3.64...</td>\n",
       "      <td>3</td>\n",
       "      <td>3</td>\n",
       "    </tr>\n",
       "    <tr>\n",
       "      <th>3</th>\n",
       "      <td>Architecturally, the school has a Catholic cha...</td>\n",
       "      <td>What is the Grotto at Notre Dame?</td>\n",
       "      <td>381</td>\n",
       "      <td>a Marian place of prayer and reflection</td>\n",
       "      <td>['Architecturally, the school has a Catholic c...</td>\n",
       "      <td>4</td>\n",
       "      <td>[array([ 0.00746889, -0.05086312,  0.00736476,...</td>\n",
       "      <td>[[ 0.00746889 -0.02113509  0.08985032 ...  0.0...</td>\n",
       "      <td>[0.6685060262680054, 0.6087148487567902, 0.695...</td>\n",
       "      <td>[6.2550764, 6.3554144, 7.8789406, 4.5443306, 4...</td>\n",
       "      <td>3</td>\n",
       "      <td>3</td>\n",
       "    </tr>\n",
       "    <tr>\n",
       "      <th>4</th>\n",
       "      <td>Architecturally, the school has a Catholic cha...</td>\n",
       "      <td>What sits on top of the Main Building at Notre...</td>\n",
       "      <td>92</td>\n",
       "      <td>a golden statue of the Virgin Mary</td>\n",
       "      <td>['Architecturally, the school has a Catholic c...</td>\n",
       "      <td>1</td>\n",
       "      <td>[array([ 0.00746889, -0.05086312,  0.00736476,...</td>\n",
       "      <td>[[ 0.00746889 -0.02515129  0.08926863 ...  0.0...</td>\n",
       "      <td>[0.7792749553918839, 0.528475284576416, 0.5735...</td>\n",
       "      <td>[7.5543714, 5.692802, 6.6871767, 4.9444075, 5....</td>\n",
       "      <td>3</td>\n",
       "      <td>3</td>\n",
       "    </tr>\n",
       "    <tr>\n",
       "      <th>...</th>\n",
       "      <td>...</td>\n",
       "      <td>...</td>\n",
       "      <td>...</td>\n",
       "      <td>...</td>\n",
       "      <td>...</td>\n",
       "      <td>...</td>\n",
       "      <td>...</td>\n",
       "      <td>...</td>\n",
       "      <td>...</td>\n",
       "      <td>...</td>\n",
       "      <td>...</td>\n",
       "      <td>...</td>\n",
       "    </tr>\n",
       "    <tr>\n",
       "      <th>19995</th>\n",
       "      <td>Spanish explorer Alonso de Salazar was the fir...</td>\n",
       "      <td>What did Alonso de Salazar call the island tha...</td>\n",
       "      <td>262</td>\n",
       "      <td>San Bartolome</td>\n",
       "      <td>['Spanish explorer Alonso de Salazar was the f...</td>\n",
       "      <td>1</td>\n",
       "      <td>[array([ 0.00746889, -0.03714685,  0.11785641,...</td>\n",
       "      <td>[[ 0.00746889 -0.00033752 -0.00704399 ...  0.0...</td>\n",
       "      <td>[0.5497021079063416, 0.4957355856895447]</td>\n",
       "      <td>[6.6481676, 4.699915]</td>\n",
       "      <td>1</td>\n",
       "      <td>1</td>\n",
       "    </tr>\n",
       "    <tr>\n",
       "      <th>19996</th>\n",
       "      <td>Spanish explorer Alonso de Salazar was the fir...</td>\n",
       "      <td>Who was the first person from Europe to observ...</td>\n",
       "      <td>17</td>\n",
       "      <td>Alonso de Salazar</td>\n",
       "      <td>['Spanish explorer Alonso de Salazar was the f...</td>\n",
       "      <td>0</td>\n",
       "      <td>[array([ 0.00746889, -0.03714685,  0.11785641,...</td>\n",
       "      <td>[[ 0.00746889 -0.02809111  0.03385132 ...  0.0...</td>\n",
       "      <td>[0.5067495405673981, 0.5224950611591339]</td>\n",
       "      <td>[6.3913994, 5.245113]</td>\n",
       "      <td>0</td>\n",
       "      <td>1</td>\n",
       "    </tr>\n",
       "    <tr>\n",
       "      <th>19997</th>\n",
       "      <td>Spanish explorer Alonso de Salazar was the fir...</td>\n",
       "      <td>What was the nationality of the first European...</td>\n",
       "      <td>0</td>\n",
       "      <td>Spanish</td>\n",
       "      <td>['Spanish explorer Alonso de Salazar was the f...</td>\n",
       "      <td>0</td>\n",
       "      <td>[array([ 0.00746889, -0.03714685,  0.11785641,...</td>\n",
       "      <td>[[ 0.00746889  0.03079974  0.03482988 ...  0.0...</td>\n",
       "      <td>[0.460440993309021, 0.5615561902523041]</td>\n",
       "      <td>[6.033019, 5.9526796]</td>\n",
       "      <td>0</td>\n",
       "      <td>1</td>\n",
       "    </tr>\n",
       "    <tr>\n",
       "      <th>19998</th>\n",
       "      <td>Spanish explorer Alonso de Salazar was the fir...</td>\n",
       "      <td>In what year did the first European view the M...</td>\n",
       "      <td>80</td>\n",
       "      <td>1526</td>\n",
       "      <td>['Spanish explorer Alonso de Salazar was the f...</td>\n",
       "      <td>0</td>\n",
       "      <td>[array([ 0.00746889, -0.03714685,  0.11785641,...</td>\n",
       "      <td>[[ 0.00746889 -0.03403048  0.03824855 ...  0.0...</td>\n",
       "      <td>[0.4848030209541321, 0.480793297290802]</td>\n",
       "      <td>[6.2986584, 5.043659]</td>\n",
       "      <td>1</td>\n",
       "      <td>1</td>\n",
       "    </tr>\n",
       "    <tr>\n",
       "      <th>19999</th>\n",
       "      <td>Spanish explorer Alonso de Salazar was the fir...</td>\n",
       "      <td>What was the name of Alonso de Salazar's ship?</td>\n",
       "      <td>106</td>\n",
       "      <td>Santa Maria de la Victoria</td>\n",
       "      <td>['Spanish explorer Alonso de Salazar was the f...</td>\n",
       "      <td>0</td>\n",
       "      <td>[array([ 0.00746889, -0.03714685,  0.11785641,...</td>\n",
       "      <td>[[ 0.00746889 -0.04638213  0.01884308 ... -0.0...</td>\n",
       "      <td>[0.5864230990409851, 0.6263886988162994]</td>\n",
       "      <td>[6.925764, 5.7423525]</td>\n",
       "      <td>0</td>\n",
       "      <td>1</td>\n",
       "    </tr>\n",
       "  </tbody>\n",
       "</table>\n",
       "<p>20000 rows × 12 columns</p>\n",
       "</div>"
      ],
      "text/plain": [
       "                                                 context  \\\n",
       "0      Architecturally, the school has a Catholic cha...   \n",
       "1      Architecturally, the school has a Catholic cha...   \n",
       "2      Architecturally, the school has a Catholic cha...   \n",
       "3      Architecturally, the school has a Catholic cha...   \n",
       "4      Architecturally, the school has a Catholic cha...   \n",
       "...                                                  ...   \n",
       "19995  Spanish explorer Alonso de Salazar was the fir...   \n",
       "19996  Spanish explorer Alonso de Salazar was the fir...   \n",
       "19997  Spanish explorer Alonso de Salazar was the fir...   \n",
       "19998  Spanish explorer Alonso de Salazar was the fir...   \n",
       "19999  Spanish explorer Alonso de Salazar was the fir...   \n",
       "\n",
       "                                                question  answer_start  \\\n",
       "0      To whom did the Virgin Mary allegedly appear i...           515   \n",
       "1      What is in front of the Notre Dame Main Building?           188   \n",
       "2      The Basilica of the Sacred heart at Notre Dame...           279   \n",
       "3                      What is the Grotto at Notre Dame?           381   \n",
       "4      What sits on top of the Main Building at Notre...            92   \n",
       "...                                                  ...           ...   \n",
       "19995  What did Alonso de Salazar call the island tha...           262   \n",
       "19996  Who was the first person from Europe to observ...            17   \n",
       "19997  What was the nationality of the first European...             0   \n",
       "19998  In what year did the first European view the M...            80   \n",
       "19999     What was the name of Alonso de Salazar's ship?           106   \n",
       "\n",
       "                                          text  \\\n",
       "0                   Saint Bernadette Soubirous   \n",
       "1                    a copper statue of Christ   \n",
       "2                            the Main Building   \n",
       "3      a Marian place of prayer and reflection   \n",
       "4           a golden statue of the Virgin Mary   \n",
       "...                                        ...   \n",
       "19995                            San Bartolome   \n",
       "19996                        Alonso de Salazar   \n",
       "19997                                  Spanish   \n",
       "19998                                     1526   \n",
       "19999               Santa Maria de la Victoria   \n",
       "\n",
       "                                               sentences  target  \\\n",
       "0      ['Architecturally, the school has a Catholic c...       5   \n",
       "1      ['Architecturally, the school has a Catholic c...       2   \n",
       "2      ['Architecturally, the school has a Catholic c...       3   \n",
       "3      ['Architecturally, the school has a Catholic c...       4   \n",
       "4      ['Architecturally, the school has a Catholic c...       1   \n",
       "...                                                  ...     ...   \n",
       "19995  ['Spanish explorer Alonso de Salazar was the f...       1   \n",
       "19996  ['Spanish explorer Alonso de Salazar was the f...       0   \n",
       "19997  ['Spanish explorer Alonso de Salazar was the f...       0   \n",
       "19998  ['Spanish explorer Alonso de Salazar was the f...       0   \n",
       "19999  ['Spanish explorer Alonso de Salazar was the f...       0   \n",
       "\n",
       "                                                sent_emb  \\\n",
       "0      [array([ 0.00746889, -0.05086312,  0.00736476,...   \n",
       "1      [array([ 0.00746889, -0.05086312,  0.00736476,...   \n",
       "2      [array([ 0.00746889, -0.05086312,  0.00736476,...   \n",
       "3      [array([ 0.00746889, -0.05086312,  0.00736476,...   \n",
       "4      [array([ 0.00746889, -0.05086312,  0.00736476,...   \n",
       "...                                                  ...   \n",
       "19995  [array([ 0.00746889, -0.03714685,  0.11785641,...   \n",
       "19996  [array([ 0.00746889, -0.03714685,  0.11785641,...   \n",
       "19997  [array([ 0.00746889, -0.03714685,  0.11785641,...   \n",
       "19998  [array([ 0.00746889, -0.03714685,  0.11785641,...   \n",
       "19999  [array([ 0.00746889, -0.03714685,  0.11785641,...   \n",
       "\n",
       "                                               quest_emb  \\\n",
       "0      [[ 0.00746889  0.02421027  0.06961633 ...  0.0...   \n",
       "1      [[ 0.00746889 -0.03348338  0.04054592 ... -0.0...   \n",
       "2      [[ 0.00746889 -0.04394472  0.14385942 ...  0.0...   \n",
       "3      [[ 0.00746889 -0.02113509  0.08985032 ...  0.0...   \n",
       "4      [[ 0.00746889 -0.02515129  0.08926863 ...  0.0...   \n",
       "...                                                  ...   \n",
       "19995  [[ 0.00746889 -0.00033752 -0.00704399 ...  0.0...   \n",
       "19996  [[ 0.00746889 -0.02809111  0.03385132 ...  0.0...   \n",
       "19997  [[ 0.00746889  0.03079974  0.03482988 ...  0.0...   \n",
       "19998  [[ 0.00746889 -0.03403048  0.03824855 ...  0.0...   \n",
       "19999  [[ 0.00746889 -0.04638213  0.01884308 ... -0.0...   \n",
       "\n",
       "                                              cosine_sim  \\\n",
       "0      [0.6835565567016602, 0.5527453124523163, 0.574...   \n",
       "1      [0.6624992787837982, 0.5191770792007446, 0.592...   \n",
       "2      [0.5955168306827545, 0.4985509514808655, 0.539...   \n",
       "3      [0.6685060262680054, 0.6087148487567902, 0.695...   \n",
       "4      [0.7792749553918839, 0.528475284576416, 0.5735...   \n",
       "...                                                  ...   \n",
       "19995           [0.5497021079063416, 0.4957355856895447]   \n",
       "19996           [0.5067495405673981, 0.5224950611591339]   \n",
       "19997            [0.460440993309021, 0.5615561902523041]   \n",
       "19998            [0.4848030209541321, 0.480793297290802]   \n",
       "19999           [0.5864230990409851, 0.6263886988162994]   \n",
       "\n",
       "                                           euclidean_dis  pred_idx_cos  \\\n",
       "0      [7.301305, 6.4764132, 7.214262, 6.9176197, 6.5...             5   \n",
       "1      [5.717004, 5.076439, 6.3408985, 3.5867877, 4.8...             3   \n",
       "2      [5.209466, 4.929249, 5.8485556, 2.803293, 3.64...             3   \n",
       "3      [6.2550764, 6.3554144, 7.8789406, 4.5443306, 4...             3   \n",
       "4      [7.5543714, 5.692802, 6.6871767, 4.9444075, 5....             3   \n",
       "...                                                  ...           ...   \n",
       "19995                              [6.6481676, 4.699915]             1   \n",
       "19996                              [6.3913994, 5.245113]             0   \n",
       "19997                              [6.033019, 5.9526796]             0   \n",
       "19998                              [6.2986584, 5.043659]             1   \n",
       "19999                              [6.925764, 5.7423525]             0   \n",
       "\n",
       "       pred_idx_euc  \n",
       "0                 5  \n",
       "1                 3  \n",
       "2                 3  \n",
       "3                 3  \n",
       "4                 3  \n",
       "...             ...  \n",
       "19995             1  \n",
       "19996             1  \n",
       "19997             1  \n",
       "19998             1  \n",
       "19999             1  \n",
       "\n",
       "[20000 rows x 12 columns]"
      ]
     },
     "execution_count": 131,
     "metadata": {},
     "output_type": "execute_result"
    }
   ],
   "source": [
    "predicted"
   ]
  },
  {
   "cell_type": "code",
   "execution_count": 132,
   "metadata": {
    "execution": {
     "iopub.execute_input": "2023-04-07T19:14:13.391989Z",
     "iopub.status.busy": "2023-04-07T19:14:13.391544Z",
     "iopub.status.idle": "2023-04-07T19:14:13.399539Z",
     "shell.execute_reply": "2023-04-07T19:14:13.398289Z",
     "shell.execute_reply.started": "2023-04-07T19:14:13.391950Z"
    }
   },
   "outputs": [
    {
     "data": {
      "text/plain": [
       "(20000, 12)"
      ]
     },
     "execution_count": 132,
     "metadata": {},
     "output_type": "execute_result"
    }
   ],
   "source": [
    "predicted.shape"
   ]
  },
  {
   "cell_type": "code",
   "execution_count": 133,
   "metadata": {
    "execution": {
     "iopub.execute_input": "2023-04-07T19:14:14.921394Z",
     "iopub.status.busy": "2023-04-07T19:14:14.920904Z",
     "iopub.status.idle": "2023-04-07T19:14:14.929962Z",
     "shell.execute_reply": "2023-04-07T19:14:14.928471Z",
     "shell.execute_reply.started": "2023-04-07T19:14:14.921352Z"
    }
   },
   "outputs": [
    {
     "data": {
      "text/plain": [
       "['Architecturally, the school has a Catholic character.',\n",
       " \"Atop the Main Building's gold dome is a golden statue of the Virgin Mary.\",\n",
       " 'Immediately in front of the Main Building and facing it, is a copper statue of Christ with arms upraised with the legend \"Venite Ad Me Omnes\".',\n",
       " 'Next to the Main Building is the Basilica of the Sacred Heart.',\n",
       " 'Immediately behind the basilica is the Grotto, a Marian place of prayer and reflection.',\n",
       " 'It is a replica of the grotto at Lourdes, France where the Virgin Mary reputedly appeared to Saint Bernadette Soubirous in 1858.',\n",
       " 'At the end of the main drive (and in a direct line that connects through 3 statues and the Gold Dome), is a simple, modern stone statue of Mary.']"
      ]
     },
     "execution_count": 133,
     "metadata": {},
     "output_type": "execute_result"
    }
   ],
   "source": [
    "#ast.literal_eval to print sentence-wise\n",
    "ast.literal_eval(predicted[\"sentences\"][0])"
   ]
  },
  {
   "cell_type": "code",
   "execution_count": 134,
   "metadata": {
    "execution": {
     "iopub.execute_input": "2023-04-07T19:14:17.476141Z",
     "iopub.status.busy": "2023-04-07T19:14:17.475725Z",
     "iopub.status.idle": "2023-04-07T19:14:17.949030Z",
     "shell.execute_reply": "2023-04-07T19:14:17.947691Z",
     "shell.execute_reply.started": "2023-04-07T19:14:17.476105Z"
    }
   },
   "outputs": [],
   "source": [
    "#Here all the paragraphs with number of sentences 10 or less are taken from data\n",
    "predicted = predicted[predicted[\"sentences\"].apply(lambda x: len(ast.literal_eval(x)))<11].reset_index(drop=True)"
   ]
  },
  {
   "cell_type": "code",
   "execution_count": 135,
   "metadata": {
    "execution": {
     "iopub.execute_input": "2023-04-07T19:14:21.298642Z",
     "iopub.status.busy": "2023-04-07T19:14:21.298072Z",
     "iopub.status.idle": "2023-04-07T19:14:21.307914Z",
     "shell.execute_reply": "2023-04-07T19:14:21.306566Z",
     "shell.execute_reply.started": "2023-04-07T19:14:21.298595Z"
    }
   },
   "outputs": [],
   "source": [
    "#Every array value of cosine similarity and euclidean distance for each sentence are separated in columns as we have to work\n",
    "#on the numerical distance data and every Question Answer pair has array for euclidean distance and cosine similarity\n",
    "def create_features(predicted):\n",
    "    train = pd.DataFrame()\n",
    "     \n",
    "    for k in range(len(predicted[\"euclidean_dis\"])):\n",
    "        dis = ast.literal_eval(predicted[\"euclidean_dis\"][k])\n",
    "        for i in range(len(dis)):\n",
    "            train.loc[k, \"column_euc_\"+\"%s\"%i] = dis[i]\n",
    "    \n",
    "    print(\"Finished\")\n",
    "    \n",
    "    for k in range(len(predicted[\"cosine_sim\"])):\n",
    "        dis = ast.literal_eval(predicted[\"cosine_sim\"][k].replace(\"nan\",\"1\"))\n",
    "        for i in range(len(dis)):\n",
    "            train.loc[k, \"column_cos_\"+\"%s\"%i] = dis[i]\n",
    "            \n",
    "    train[\"target\"] = predicted[\"target\"]\n",
    "    return train"
   ]
  },
  {
   "cell_type": "code",
   "execution_count": 136,
   "metadata": {
    "execution": {
     "iopub.execute_input": "2023-04-07T19:14:22.602961Z",
     "iopub.status.busy": "2023-04-07T19:14:22.602516Z",
     "iopub.status.idle": "2023-04-07T19:15:07.262463Z",
     "shell.execute_reply": "2023-04-07T19:15:07.261107Z",
     "shell.execute_reply.started": "2023-04-07T19:14:22.602921Z"
    }
   },
   "outputs": [
    {
     "name": "stdout",
     "output_type": "stream",
     "text": [
      "Finished\n"
     ]
    }
   ],
   "source": [
    "# Call to create features and convert distances to columns\n",
    "train = create_features(predicted)"
   ]
  },
  {
   "cell_type": "code",
   "execution_count": 137,
   "metadata": {
    "execution": {
     "iopub.execute_input": "2023-04-07T19:15:11.884377Z",
     "iopub.status.busy": "2023-04-07T19:15:11.883953Z",
     "iopub.status.idle": "2023-04-07T19:15:12.162826Z",
     "shell.execute_reply": "2023-04-07T19:15:12.161194Z",
     "shell.execute_reply.started": "2023-04-07T19:15:11.884323Z"
    }
   },
   "outputs": [],
   "source": [
    "train.to_csv(\"train_final.csv\", index=None)"
   ]
  },
  {
   "cell_type": "code",
   "execution_count": 138,
   "metadata": {
    "execution": {
     "iopub.execute_input": "2023-04-07T19:15:16.139861Z",
     "iopub.status.busy": "2023-04-07T19:15:16.139455Z",
     "iopub.status.idle": "2023-04-07T19:15:16.184533Z",
     "shell.execute_reply": "2023-04-07T19:15:16.183354Z",
     "shell.execute_reply.started": "2023-04-07T19:15:16.139828Z"
    }
   },
   "outputs": [],
   "source": [
    "#Read the new CSV file\n",
    "train1 = pd.read_csv(\"train_final.csv\").reset_index(drop=True)"
   ]
  },
  {
   "cell_type": "code",
   "execution_count": 139,
   "metadata": {
    "execution": {
     "iopub.execute_input": "2023-04-07T19:15:17.857721Z",
     "iopub.status.busy": "2023-04-07T19:15:17.857317Z",
     "iopub.status.idle": "2023-04-07T19:15:17.893973Z",
     "shell.execute_reply": "2023-04-07T19:15:17.892697Z",
     "shell.execute_reply.started": "2023-04-07T19:15:17.857688Z"
    }
   },
   "outputs": [
    {
     "data": {
      "text/html": [
       "<div>\n",
       "<style scoped>\n",
       "    .dataframe tbody tr th:only-of-type {\n",
       "        vertical-align: middle;\n",
       "    }\n",
       "\n",
       "    .dataframe tbody tr th {\n",
       "        vertical-align: top;\n",
       "    }\n",
       "\n",
       "    .dataframe thead th {\n",
       "        text-align: right;\n",
       "    }\n",
       "</style>\n",
       "<table border=\"1\" class=\"dataframe\">\n",
       "  <thead>\n",
       "    <tr style=\"text-align: right;\">\n",
       "      <th></th>\n",
       "      <th>column_euc_0</th>\n",
       "      <th>column_euc_1</th>\n",
       "      <th>column_euc_2</th>\n",
       "      <th>column_euc_3</th>\n",
       "      <th>column_euc_4</th>\n",
       "      <th>column_euc_5</th>\n",
       "      <th>column_euc_6</th>\n",
       "      <th>column_euc_7</th>\n",
       "      <th>column_euc_8</th>\n",
       "      <th>column_euc_9</th>\n",
       "      <th>...</th>\n",
       "      <th>column_cos_1</th>\n",
       "      <th>column_cos_2</th>\n",
       "      <th>column_cos_3</th>\n",
       "      <th>column_cos_4</th>\n",
       "      <th>column_cos_5</th>\n",
       "      <th>column_cos_6</th>\n",
       "      <th>column_cos_7</th>\n",
       "      <th>column_cos_8</th>\n",
       "      <th>column_cos_9</th>\n",
       "      <th>target</th>\n",
       "    </tr>\n",
       "  </thead>\n",
       "  <tbody>\n",
       "    <tr>\n",
       "      <th>0</th>\n",
       "      <td>7.301305</td>\n",
       "      <td>6.476413</td>\n",
       "      <td>7.214262</td>\n",
       "      <td>6.917620</td>\n",
       "      <td>6.519748</td>\n",
       "      <td>3.641007</td>\n",
       "      <td>6.908043</td>\n",
       "      <td>NaN</td>\n",
       "      <td>NaN</td>\n",
       "      <td>NaN</td>\n",
       "      <td>...</td>\n",
       "      <td>0.552745</td>\n",
       "      <td>0.574794</td>\n",
       "      <td>0.624309</td>\n",
       "      <td>0.619026</td>\n",
       "      <td>0.258351</td>\n",
       "      <td>0.574366</td>\n",
       "      <td>NaN</td>\n",
       "      <td>NaN</td>\n",
       "      <td>NaN</td>\n",
       "      <td>5</td>\n",
       "    </tr>\n",
       "    <tr>\n",
       "      <th>1</th>\n",
       "      <td>5.717004</td>\n",
       "      <td>5.076439</td>\n",
       "      <td>6.340898</td>\n",
       "      <td>3.586788</td>\n",
       "      <td>4.826955</td>\n",
       "      <td>7.294750</td>\n",
       "      <td>6.392016</td>\n",
       "      <td>NaN</td>\n",
       "      <td>NaN</td>\n",
       "      <td>NaN</td>\n",
       "      <td>...</td>\n",
       "      <td>0.519177</td>\n",
       "      <td>0.592157</td>\n",
       "      <td>0.395893</td>\n",
       "      <td>0.572930</td>\n",
       "      <td>0.594844</td>\n",
       "      <td>0.632305</td>\n",
       "      <td>NaN</td>\n",
       "      <td>NaN</td>\n",
       "      <td>NaN</td>\n",
       "      <td>2</td>\n",
       "    </tr>\n",
       "    <tr>\n",
       "      <th>2</th>\n",
       "      <td>5.209466</td>\n",
       "      <td>4.929249</td>\n",
       "      <td>5.848556</td>\n",
       "      <td>2.803293</td>\n",
       "      <td>3.640505</td>\n",
       "      <td>6.348039</td>\n",
       "      <td>5.655107</td>\n",
       "      <td>NaN</td>\n",
       "      <td>NaN</td>\n",
       "      <td>NaN</td>\n",
       "      <td>...</td>\n",
       "      <td>0.498551</td>\n",
       "      <td>0.539787</td>\n",
       "      <td>0.305576</td>\n",
       "      <td>0.425775</td>\n",
       "      <td>0.508852</td>\n",
       "      <td>0.552530</td>\n",
       "      <td>NaN</td>\n",
       "      <td>NaN</td>\n",
       "      <td>NaN</td>\n",
       "      <td>3</td>\n",
       "    </tr>\n",
       "    <tr>\n",
       "      <th>3</th>\n",
       "      <td>6.255076</td>\n",
       "      <td>6.355414</td>\n",
       "      <td>7.878941</td>\n",
       "      <td>4.544331</td>\n",
       "      <td>4.577210</td>\n",
       "      <td>7.192090</td>\n",
       "      <td>7.930581</td>\n",
       "      <td>NaN</td>\n",
       "      <td>NaN</td>\n",
       "      <td>NaN</td>\n",
       "      <td>...</td>\n",
       "      <td>0.608715</td>\n",
       "      <td>0.695520</td>\n",
       "      <td>0.465277</td>\n",
       "      <td>0.498301</td>\n",
       "      <td>0.558794</td>\n",
       "      <td>0.736132</td>\n",
       "      <td>NaN</td>\n",
       "      <td>NaN</td>\n",
       "      <td>NaN</td>\n",
       "      <td>4</td>\n",
       "    </tr>\n",
       "    <tr>\n",
       "      <th>4</th>\n",
       "      <td>7.554371</td>\n",
       "      <td>5.692802</td>\n",
       "      <td>6.687177</td>\n",
       "      <td>4.944407</td>\n",
       "      <td>5.559352</td>\n",
       "      <td>7.806414</td>\n",
       "      <td>6.598026</td>\n",
       "      <td>NaN</td>\n",
       "      <td>NaN</td>\n",
       "      <td>NaN</td>\n",
       "      <td>...</td>\n",
       "      <td>0.528475</td>\n",
       "      <td>0.573556</td>\n",
       "      <td>0.488644</td>\n",
       "      <td>0.583152</td>\n",
       "      <td>0.594557</td>\n",
       "      <td>0.594187</td>\n",
       "      <td>NaN</td>\n",
       "      <td>NaN</td>\n",
       "      <td>NaN</td>\n",
       "      <td>1</td>\n",
       "    </tr>\n",
       "    <tr>\n",
       "      <th>...</th>\n",
       "      <td>...</td>\n",
       "      <td>...</td>\n",
       "      <td>...</td>\n",
       "      <td>...</td>\n",
       "      <td>...</td>\n",
       "      <td>...</td>\n",
       "      <td>...</td>\n",
       "      <td>...</td>\n",
       "      <td>...</td>\n",
       "      <td>...</td>\n",
       "      <td>...</td>\n",
       "      <td>...</td>\n",
       "      <td>...</td>\n",
       "      <td>...</td>\n",
       "      <td>...</td>\n",
       "      <td>...</td>\n",
       "      <td>...</td>\n",
       "      <td>...</td>\n",
       "      <td>...</td>\n",
       "      <td>...</td>\n",
       "      <td>...</td>\n",
       "    </tr>\n",
       "    <tr>\n",
       "      <th>19566</th>\n",
       "      <td>6.648168</td>\n",
       "      <td>4.699915</td>\n",
       "      <td>NaN</td>\n",
       "      <td>NaN</td>\n",
       "      <td>NaN</td>\n",
       "      <td>NaN</td>\n",
       "      <td>NaN</td>\n",
       "      <td>NaN</td>\n",
       "      <td>NaN</td>\n",
       "      <td>NaN</td>\n",
       "      <td>...</td>\n",
       "      <td>0.495736</td>\n",
       "      <td>NaN</td>\n",
       "      <td>NaN</td>\n",
       "      <td>NaN</td>\n",
       "      <td>NaN</td>\n",
       "      <td>NaN</td>\n",
       "      <td>NaN</td>\n",
       "      <td>NaN</td>\n",
       "      <td>NaN</td>\n",
       "      <td>1</td>\n",
       "    </tr>\n",
       "    <tr>\n",
       "      <th>19567</th>\n",
       "      <td>6.391399</td>\n",
       "      <td>5.245113</td>\n",
       "      <td>NaN</td>\n",
       "      <td>NaN</td>\n",
       "      <td>NaN</td>\n",
       "      <td>NaN</td>\n",
       "      <td>NaN</td>\n",
       "      <td>NaN</td>\n",
       "      <td>NaN</td>\n",
       "      <td>NaN</td>\n",
       "      <td>...</td>\n",
       "      <td>0.522495</td>\n",
       "      <td>NaN</td>\n",
       "      <td>NaN</td>\n",
       "      <td>NaN</td>\n",
       "      <td>NaN</td>\n",
       "      <td>NaN</td>\n",
       "      <td>NaN</td>\n",
       "      <td>NaN</td>\n",
       "      <td>NaN</td>\n",
       "      <td>0</td>\n",
       "    </tr>\n",
       "    <tr>\n",
       "      <th>19568</th>\n",
       "      <td>6.033019</td>\n",
       "      <td>5.952680</td>\n",
       "      <td>NaN</td>\n",
       "      <td>NaN</td>\n",
       "      <td>NaN</td>\n",
       "      <td>NaN</td>\n",
       "      <td>NaN</td>\n",
       "      <td>NaN</td>\n",
       "      <td>NaN</td>\n",
       "      <td>NaN</td>\n",
       "      <td>...</td>\n",
       "      <td>0.561556</td>\n",
       "      <td>NaN</td>\n",
       "      <td>NaN</td>\n",
       "      <td>NaN</td>\n",
       "      <td>NaN</td>\n",
       "      <td>NaN</td>\n",
       "      <td>NaN</td>\n",
       "      <td>NaN</td>\n",
       "      <td>NaN</td>\n",
       "      <td>0</td>\n",
       "    </tr>\n",
       "    <tr>\n",
       "      <th>19569</th>\n",
       "      <td>6.298658</td>\n",
       "      <td>5.043659</td>\n",
       "      <td>NaN</td>\n",
       "      <td>NaN</td>\n",
       "      <td>NaN</td>\n",
       "      <td>NaN</td>\n",
       "      <td>NaN</td>\n",
       "      <td>NaN</td>\n",
       "      <td>NaN</td>\n",
       "      <td>NaN</td>\n",
       "      <td>...</td>\n",
       "      <td>0.480793</td>\n",
       "      <td>NaN</td>\n",
       "      <td>NaN</td>\n",
       "      <td>NaN</td>\n",
       "      <td>NaN</td>\n",
       "      <td>NaN</td>\n",
       "      <td>NaN</td>\n",
       "      <td>NaN</td>\n",
       "      <td>NaN</td>\n",
       "      <td>0</td>\n",
       "    </tr>\n",
       "    <tr>\n",
       "      <th>19570</th>\n",
       "      <td>6.925764</td>\n",
       "      <td>5.742352</td>\n",
       "      <td>NaN</td>\n",
       "      <td>NaN</td>\n",
       "      <td>NaN</td>\n",
       "      <td>NaN</td>\n",
       "      <td>NaN</td>\n",
       "      <td>NaN</td>\n",
       "      <td>NaN</td>\n",
       "      <td>NaN</td>\n",
       "      <td>...</td>\n",
       "      <td>0.626389</td>\n",
       "      <td>NaN</td>\n",
       "      <td>NaN</td>\n",
       "      <td>NaN</td>\n",
       "      <td>NaN</td>\n",
       "      <td>NaN</td>\n",
       "      <td>NaN</td>\n",
       "      <td>NaN</td>\n",
       "      <td>NaN</td>\n",
       "      <td>0</td>\n",
       "    </tr>\n",
       "  </tbody>\n",
       "</table>\n",
       "<p>19571 rows × 21 columns</p>\n",
       "</div>"
      ],
      "text/plain": [
       "       column_euc_0  column_euc_1  column_euc_2  column_euc_3  column_euc_4  \\\n",
       "0          7.301305      6.476413      7.214262      6.917620      6.519748   \n",
       "1          5.717004      5.076439      6.340898      3.586788      4.826955   \n",
       "2          5.209466      4.929249      5.848556      2.803293      3.640505   \n",
       "3          6.255076      6.355414      7.878941      4.544331      4.577210   \n",
       "4          7.554371      5.692802      6.687177      4.944407      5.559352   \n",
       "...             ...           ...           ...           ...           ...   \n",
       "19566      6.648168      4.699915           NaN           NaN           NaN   \n",
       "19567      6.391399      5.245113           NaN           NaN           NaN   \n",
       "19568      6.033019      5.952680           NaN           NaN           NaN   \n",
       "19569      6.298658      5.043659           NaN           NaN           NaN   \n",
       "19570      6.925764      5.742352           NaN           NaN           NaN   \n",
       "\n",
       "       column_euc_5  column_euc_6  column_euc_7  column_euc_8  column_euc_9  \\\n",
       "0          3.641007      6.908043           NaN           NaN           NaN   \n",
       "1          7.294750      6.392016           NaN           NaN           NaN   \n",
       "2          6.348039      5.655107           NaN           NaN           NaN   \n",
       "3          7.192090      7.930581           NaN           NaN           NaN   \n",
       "4          7.806414      6.598026           NaN           NaN           NaN   \n",
       "...             ...           ...           ...           ...           ...   \n",
       "19566           NaN           NaN           NaN           NaN           NaN   \n",
       "19567           NaN           NaN           NaN           NaN           NaN   \n",
       "19568           NaN           NaN           NaN           NaN           NaN   \n",
       "19569           NaN           NaN           NaN           NaN           NaN   \n",
       "19570           NaN           NaN           NaN           NaN           NaN   \n",
       "\n",
       "       ...  column_cos_1  column_cos_2  column_cos_3  column_cos_4  \\\n",
       "0      ...      0.552745      0.574794      0.624309      0.619026   \n",
       "1      ...      0.519177      0.592157      0.395893      0.572930   \n",
       "2      ...      0.498551      0.539787      0.305576      0.425775   \n",
       "3      ...      0.608715      0.695520      0.465277      0.498301   \n",
       "4      ...      0.528475      0.573556      0.488644      0.583152   \n",
       "...    ...           ...           ...           ...           ...   \n",
       "19566  ...      0.495736           NaN           NaN           NaN   \n",
       "19567  ...      0.522495           NaN           NaN           NaN   \n",
       "19568  ...      0.561556           NaN           NaN           NaN   \n",
       "19569  ...      0.480793           NaN           NaN           NaN   \n",
       "19570  ...      0.626389           NaN           NaN           NaN   \n",
       "\n",
       "       column_cos_5  column_cos_6  column_cos_7  column_cos_8  column_cos_9  \\\n",
       "0          0.258351      0.574366           NaN           NaN           NaN   \n",
       "1          0.594844      0.632305           NaN           NaN           NaN   \n",
       "2          0.508852      0.552530           NaN           NaN           NaN   \n",
       "3          0.558794      0.736132           NaN           NaN           NaN   \n",
       "4          0.594557      0.594187           NaN           NaN           NaN   \n",
       "...             ...           ...           ...           ...           ...   \n",
       "19566           NaN           NaN           NaN           NaN           NaN   \n",
       "19567           NaN           NaN           NaN           NaN           NaN   \n",
       "19568           NaN           NaN           NaN           NaN           NaN   \n",
       "19569           NaN           NaN           NaN           NaN           NaN   \n",
       "19570           NaN           NaN           NaN           NaN           NaN   \n",
       "\n",
       "       target  \n",
       "0           5  \n",
       "1           2  \n",
       "2           3  \n",
       "3           4  \n",
       "4           1  \n",
       "...       ...  \n",
       "19566       1  \n",
       "19567       0  \n",
       "19568       0  \n",
       "19569       0  \n",
       "19570       0  \n",
       "\n",
       "[19571 rows x 21 columns]"
      ]
     },
     "execution_count": 139,
     "metadata": {},
     "output_type": "execute_result"
    }
   ],
   "source": [
    "train1"
   ]
  },
  {
   "cell_type": "code",
   "execution_count": 140,
   "metadata": {
    "execution": {
     "iopub.execute_input": "2023-04-07T19:15:23.489495Z",
     "iopub.status.busy": "2023-04-07T19:15:23.488911Z",
     "iopub.status.idle": "2023-04-07T19:15:23.541085Z",
     "shell.execute_reply": "2023-04-07T19:15:23.539736Z",
     "shell.execute_reply.started": "2023-04-07T19:15:23.489448Z"
    }
   },
   "outputs": [
    {
     "data": {
      "text/plain": [
       "column_euc_0    29.927914\n",
       "column_euc_1    28.513681\n",
       "column_euc_2    28.376060\n",
       "column_euc_3    25.351313\n",
       "column_euc_4    24.833082\n",
       "column_euc_5    18.920776\n",
       "column_euc_6    27.191343\n",
       "column_euc_7          NaN\n",
       "column_euc_8          NaN\n",
       "column_euc_9          NaN\n",
       "column_cos_0     1.491517\n",
       "column_cos_1     1.470882\n",
       "column_cos_2     1.455926\n",
       "column_cos_3     1.317311\n",
       "column_cos_4     1.415583\n",
       "column_cos_5     1.311813\n",
       "column_cos_6     1.418385\n",
       "column_cos_7          NaN\n",
       "column_cos_8          NaN\n",
       "column_cos_9          NaN\n",
       "target           9.000000\n",
       "dtype: float64"
      ]
     },
     "execution_count": 140,
     "metadata": {},
     "output_type": "execute_result"
    }
   ],
   "source": [
    "#Finding Maximum for all the columns\n",
    "train1.apply(max, axis = 0)"
   ]
  },
  {
   "cell_type": "code",
   "execution_count": 141,
   "metadata": {
    "execution": {
     "iopub.execute_input": "2023-04-07T19:15:26.887179Z",
     "iopub.status.busy": "2023-04-07T19:15:26.886762Z",
     "iopub.status.idle": "2023-04-07T19:15:26.897859Z",
     "shell.execute_reply": "2023-04-07T19:15:26.896389Z",
     "shell.execute_reply.started": "2023-04-07T19:15:26.887143Z"
    }
   },
   "outputs": [],
   "source": [
    "#As for all the sentences the number of array values in cosine similarity and euclidean distance array are not same so we\n",
    "#replace those values accordingly by 60 and 1\n",
    "subset1 = train1.iloc[:,:10].fillna(60)\n",
    "subset2 = train1.iloc[:,10:].fillna(1)"
   ]
  },
  {
   "cell_type": "code",
   "execution_count": 142,
   "metadata": {
    "execution": {
     "iopub.execute_input": "2023-04-07T19:15:30.708324Z",
     "iopub.status.busy": "2023-04-07T19:15:30.707426Z",
     "iopub.status.idle": "2023-04-07T19:15:30.725235Z",
     "shell.execute_reply": "2023-04-07T19:15:30.724101Z",
     "shell.execute_reply.started": "2023-04-07T19:15:30.708275Z"
    }
   },
   "outputs": [
    {
     "data": {
      "text/html": [
       "<div>\n",
       "<style scoped>\n",
       "    .dataframe tbody tr th:only-of-type {\n",
       "        vertical-align: middle;\n",
       "    }\n",
       "\n",
       "    .dataframe tbody tr th {\n",
       "        vertical-align: top;\n",
       "    }\n",
       "\n",
       "    .dataframe thead th {\n",
       "        text-align: right;\n",
       "    }\n",
       "</style>\n",
       "<table border=\"1\" class=\"dataframe\">\n",
       "  <thead>\n",
       "    <tr style=\"text-align: right;\">\n",
       "      <th></th>\n",
       "      <th>column_euc_0</th>\n",
       "      <th>column_euc_1</th>\n",
       "      <th>column_euc_2</th>\n",
       "      <th>column_euc_3</th>\n",
       "      <th>column_euc_4</th>\n",
       "      <th>column_euc_5</th>\n",
       "      <th>column_euc_6</th>\n",
       "      <th>column_euc_7</th>\n",
       "      <th>column_euc_8</th>\n",
       "      <th>column_euc_9</th>\n",
       "    </tr>\n",
       "  </thead>\n",
       "  <tbody>\n",
       "    <tr>\n",
       "      <th>0</th>\n",
       "      <td>7.301305</td>\n",
       "      <td>6.476413</td>\n",
       "      <td>7.214262</td>\n",
       "      <td>6.917620</td>\n",
       "      <td>6.519748</td>\n",
       "      <td>3.641007</td>\n",
       "      <td>6.908043</td>\n",
       "      <td>60.0</td>\n",
       "      <td>60.0</td>\n",
       "      <td>60.0</td>\n",
       "    </tr>\n",
       "    <tr>\n",
       "      <th>1</th>\n",
       "      <td>5.717004</td>\n",
       "      <td>5.076439</td>\n",
       "      <td>6.340898</td>\n",
       "      <td>3.586788</td>\n",
       "      <td>4.826955</td>\n",
       "      <td>7.294750</td>\n",
       "      <td>6.392016</td>\n",
       "      <td>60.0</td>\n",
       "      <td>60.0</td>\n",
       "      <td>60.0</td>\n",
       "    </tr>\n",
       "    <tr>\n",
       "      <th>2</th>\n",
       "      <td>5.209466</td>\n",
       "      <td>4.929249</td>\n",
       "      <td>5.848556</td>\n",
       "      <td>2.803293</td>\n",
       "      <td>3.640505</td>\n",
       "      <td>6.348039</td>\n",
       "      <td>5.655107</td>\n",
       "      <td>60.0</td>\n",
       "      <td>60.0</td>\n",
       "      <td>60.0</td>\n",
       "    </tr>\n",
       "  </tbody>\n",
       "</table>\n",
       "</div>"
      ],
      "text/plain": [
       "   column_euc_0  column_euc_1  column_euc_2  column_euc_3  column_euc_4  \\\n",
       "0      7.301305      6.476413      7.214262      6.917620      6.519748   \n",
       "1      5.717004      5.076439      6.340898      3.586788      4.826955   \n",
       "2      5.209466      4.929249      5.848556      2.803293      3.640505   \n",
       "\n",
       "   column_euc_5  column_euc_6  column_euc_7  column_euc_8  column_euc_9  \n",
       "0      3.641007      6.908043          60.0          60.0          60.0  \n",
       "1      7.294750      6.392016          60.0          60.0          60.0  \n",
       "2      6.348039      5.655107          60.0          60.0          60.0  "
      ]
     },
     "execution_count": 142,
     "metadata": {},
     "output_type": "execute_result"
    }
   ],
   "source": [
    " subset1.head(3)"
   ]
  },
  {
   "cell_type": "code",
   "execution_count": 143,
   "metadata": {
    "execution": {
     "iopub.execute_input": "2023-04-07T19:15:32.803240Z",
     "iopub.status.busy": "2023-04-07T19:15:32.801776Z",
     "iopub.status.idle": "2023-04-07T19:15:32.814698Z",
     "shell.execute_reply": "2023-04-07T19:15:32.813030Z",
     "shell.execute_reply.started": "2023-04-07T19:15:32.803162Z"
    }
   },
   "outputs": [],
   "source": [
    "# After the update of NaN values in both euclidean and cosine subsets they are concatenated for final use\n",
    "#train2 = pd.concat([subset1, subset2],axis=1, join_axes=[subset1.index])\n",
    "train2 = pd.concat([subset1, subset2], axis=1)\n",
    "train2 = train2.reindex(subset1.index)"
   ]
  },
  {
   "cell_type": "code",
   "execution_count": 144,
   "metadata": {
    "execution": {
     "iopub.execute_input": "2023-04-07T19:15:34.311636Z",
     "iopub.status.busy": "2023-04-07T19:15:34.311197Z",
     "iopub.status.idle": "2023-04-07T19:15:34.366302Z",
     "shell.execute_reply": "2023-04-07T19:15:34.364938Z",
     "shell.execute_reply.started": "2023-04-07T19:15:34.311603Z"
    }
   },
   "outputs": [
    {
     "data": {
      "text/plain": [
       "column_euc_0    29.927914\n",
       "column_euc_1    60.000000\n",
       "column_euc_2    60.000000\n",
       "column_euc_3    60.000000\n",
       "column_euc_4    60.000000\n",
       "column_euc_5    60.000000\n",
       "column_euc_6    60.000000\n",
       "column_euc_7    60.000000\n",
       "column_euc_8    60.000000\n",
       "column_euc_9    60.000000\n",
       "column_cos_0     1.491517\n",
       "column_cos_1     1.470882\n",
       "column_cos_2     1.455926\n",
       "column_cos_3     1.317311\n",
       "column_cos_4     1.415583\n",
       "column_cos_5     1.311813\n",
       "column_cos_6     1.418385\n",
       "column_cos_7     1.316381\n",
       "column_cos_8     1.153493\n",
       "column_cos_9     1.137118\n",
       "target           9.000000\n",
       "dtype: float64"
      ]
     },
     "execution_count": 144,
     "metadata": {},
     "output_type": "execute_result"
    }
   ],
   "source": [
    "# Maximum for all columns\n",
    "train2.apply(max, axis = 0)"
   ]
  },
  {
   "cell_type": "code",
   "execution_count": 145,
   "metadata": {
    "execution": {
     "iopub.execute_input": "2023-04-07T19:15:37.256798Z",
     "iopub.status.busy": "2023-04-07T19:15:37.256382Z",
     "iopub.status.idle": "2023-04-07T19:15:37.269921Z",
     "shell.execute_reply": "2023-04-07T19:15:37.268699Z",
     "shell.execute_reply.started": "2023-04-07T19:15:37.256763Z"
    }
   },
   "outputs": [],
   "source": [
    "# Normalization of final train data between 0 to 1\n",
    "scaler = MinMaxScaler()\n",
    "X = scaler.fit_transform(train2.iloc[:,:-1])"
   ]
  },
  {
   "cell_type": "code",
   "execution_count": 146,
   "metadata": {
    "execution": {
     "iopub.execute_input": "2023-04-07T19:15:38.911541Z",
     "iopub.status.busy": "2023-04-07T19:15:38.910368Z",
     "iopub.status.idle": "2023-04-07T19:15:38.919556Z",
     "shell.execute_reply": "2023-04-07T19:15:38.918272Z",
     "shell.execute_reply.started": "2023-04-07T19:15:38.911489Z"
    }
   },
   "outputs": [
    {
     "data": {
      "text/plain": [
       "(19571, 20)"
      ]
     },
     "execution_count": 146,
     "metadata": {},
     "output_type": "execute_result"
    }
   ],
   "source": [
    "X.shape"
   ]
  },
  {
   "cell_type": "code",
   "execution_count": 147,
   "metadata": {
    "execution": {
     "iopub.execute_input": "2023-04-07T19:15:40.385561Z",
     "iopub.status.busy": "2023-04-07T19:15:40.384606Z",
     "iopub.status.idle": "2023-04-07T19:15:40.394216Z",
     "shell.execute_reply": "2023-04-07T19:15:40.392995Z",
     "shell.execute_reply.started": "2023-04-07T19:15:40.385513Z"
    }
   },
   "outputs": [
    {
     "data": {
      "text/plain": [
       "array([[0.23290102, 0.10277595, 0.1112316 , ..., 0.75965824, 0.866932  ,\n",
       "        0.87941593],\n",
       "       [0.17918923, 0.07930797, 0.09652653, ..., 0.75965824, 0.866932  ,\n",
       "        0.87941593],\n",
       "       [0.16198241, 0.07684061, 0.08823682, ..., 0.75965824, 0.866932  ,\n",
       "        0.87941593],\n",
       "       ...,\n",
       "       [0.18990293, 0.09399653, 1.        , ..., 0.75965824, 0.866932  ,\n",
       "        0.87941593],\n",
       "       [0.19890877, 0.07875848, 1.        , ..., 0.75965824, 0.866932  ,\n",
       "        0.87941593],\n",
       "       [0.22016923, 0.09047078, 1.        , ..., 0.75965824, 0.866932  ,\n",
       "        0.87941593]])"
      ]
     },
     "execution_count": 147,
     "metadata": {},
     "output_type": "execute_result"
    }
   ],
   "source": [
    "X"
   ]
  },
  {
   "cell_type": "code",
   "execution_count": 148,
   "metadata": {
    "execution": {
     "iopub.execute_input": "2023-04-07T19:15:42.301073Z",
     "iopub.status.busy": "2023-04-07T19:15:42.300010Z",
     "iopub.status.idle": "2023-04-07T19:15:42.310803Z",
     "shell.execute_reply": "2023-04-07T19:15:42.309585Z",
     "shell.execute_reply.started": "2023-04-07T19:15:42.301024Z"
    }
   },
   "outputs": [
    {
     "data": {
      "text/plain": [
       "0        5\n",
       "1        2\n",
       "2        3\n",
       "3        4\n",
       "4        1\n",
       "        ..\n",
       "19566    1\n",
       "19567    0\n",
       "19568    0\n",
       "19569    0\n",
       "19570    0\n",
       "Name: target, Length: 19571, dtype: int64"
      ]
     },
     "execution_count": 148,
     "metadata": {},
     "output_type": "execute_result"
    }
   ],
   "source": [
    "train1.iloc[:,-1]"
   ]
  },
  {
   "cell_type": "code",
   "execution_count": 164,
   "metadata": {
    "execution": {
     "iopub.execute_input": "2023-04-07T19:16:04.873183Z",
     "iopub.status.busy": "2023-04-07T19:16:04.872771Z",
     "iopub.status.idle": "2023-04-07T19:16:04.884967Z",
     "shell.execute_reply": "2023-04-07T19:16:04.883773Z",
     "shell.execute_reply.started": "2023-04-07T19:16:04.873149Z"
    }
   },
   "outputs": [],
   "source": [
    "# Split the training data and testing data with 70:30 ratio\n",
    "train_x, test_x, train_y, test_y = train_test_split(X,\n",
    "train1.iloc[:,-1], train_size=0.7, random_state=42)"
   ]
  },
  {
   "cell_type": "code",
   "execution_count": 165,
   "metadata": {
    "execution": {
     "iopub.execute_input": "2023-04-07T19:16:05.925150Z",
     "iopub.status.busy": "2023-04-07T19:16:05.924573Z",
     "iopub.status.idle": "2023-04-07T19:16:05.969024Z",
     "shell.execute_reply": "2023-04-07T19:16:05.968089Z",
     "shell.execute_reply.started": "2023-04-07T19:16:05.925102Z"
    }
   },
   "outputs": [
    {
     "data": {
      "text/html": [
       "<div>\n",
       "<style scoped>\n",
       "    .dataframe tbody tr th:only-of-type {\n",
       "        vertical-align: middle;\n",
       "    }\n",
       "\n",
       "    .dataframe tbody tr th {\n",
       "        vertical-align: top;\n",
       "    }\n",
       "\n",
       "    .dataframe thead th {\n",
       "        text-align: right;\n",
       "    }\n",
       "</style>\n",
       "<table border=\"1\" class=\"dataframe\">\n",
       "  <thead>\n",
       "    <tr style=\"text-align: right;\">\n",
       "      <th></th>\n",
       "      <th>column_euc_0</th>\n",
       "      <th>column_euc_1</th>\n",
       "      <th>column_euc_2</th>\n",
       "      <th>column_euc_3</th>\n",
       "      <th>column_euc_4</th>\n",
       "      <th>column_euc_5</th>\n",
       "      <th>column_euc_6</th>\n",
       "      <th>column_euc_7</th>\n",
       "      <th>column_euc_8</th>\n",
       "      <th>column_euc_9</th>\n",
       "      <th>...</th>\n",
       "      <th>column_cos_1</th>\n",
       "      <th>column_cos_2</th>\n",
       "      <th>column_cos_3</th>\n",
       "      <th>column_cos_4</th>\n",
       "      <th>column_cos_5</th>\n",
       "      <th>column_cos_6</th>\n",
       "      <th>column_cos_7</th>\n",
       "      <th>column_cos_8</th>\n",
       "      <th>column_cos_9</th>\n",
       "      <th>target</th>\n",
       "    </tr>\n",
       "  </thead>\n",
       "  <tbody>\n",
       "    <tr>\n",
       "      <th>0</th>\n",
       "      <td>7.301305</td>\n",
       "      <td>6.476413</td>\n",
       "      <td>7.214262</td>\n",
       "      <td>6.917620</td>\n",
       "      <td>6.519748</td>\n",
       "      <td>3.641007</td>\n",
       "      <td>6.908043</td>\n",
       "      <td>60.0</td>\n",
       "      <td>60.0</td>\n",
       "      <td>60.0</td>\n",
       "      <td>...</td>\n",
       "      <td>0.552745</td>\n",
       "      <td>0.574794</td>\n",
       "      <td>0.624309</td>\n",
       "      <td>0.619026</td>\n",
       "      <td>0.258351</td>\n",
       "      <td>0.574366</td>\n",
       "      <td>1.0</td>\n",
       "      <td>1.0</td>\n",
       "      <td>1.0</td>\n",
       "      <td>5</td>\n",
       "    </tr>\n",
       "    <tr>\n",
       "      <th>1</th>\n",
       "      <td>5.717004</td>\n",
       "      <td>5.076439</td>\n",
       "      <td>6.340898</td>\n",
       "      <td>3.586788</td>\n",
       "      <td>4.826955</td>\n",
       "      <td>7.294750</td>\n",
       "      <td>6.392016</td>\n",
       "      <td>60.0</td>\n",
       "      <td>60.0</td>\n",
       "      <td>60.0</td>\n",
       "      <td>...</td>\n",
       "      <td>0.519177</td>\n",
       "      <td>0.592157</td>\n",
       "      <td>0.395893</td>\n",
       "      <td>0.572930</td>\n",
       "      <td>0.594844</td>\n",
       "      <td>0.632305</td>\n",
       "      <td>1.0</td>\n",
       "      <td>1.0</td>\n",
       "      <td>1.0</td>\n",
       "      <td>2</td>\n",
       "    </tr>\n",
       "    <tr>\n",
       "      <th>2</th>\n",
       "      <td>5.209466</td>\n",
       "      <td>4.929249</td>\n",
       "      <td>5.848556</td>\n",
       "      <td>2.803293</td>\n",
       "      <td>3.640505</td>\n",
       "      <td>6.348039</td>\n",
       "      <td>5.655107</td>\n",
       "      <td>60.0</td>\n",
       "      <td>60.0</td>\n",
       "      <td>60.0</td>\n",
       "      <td>...</td>\n",
       "      <td>0.498551</td>\n",
       "      <td>0.539787</td>\n",
       "      <td>0.305576</td>\n",
       "      <td>0.425775</td>\n",
       "      <td>0.508852</td>\n",
       "      <td>0.552530</td>\n",
       "      <td>1.0</td>\n",
       "      <td>1.0</td>\n",
       "      <td>1.0</td>\n",
       "      <td>3</td>\n",
       "    </tr>\n",
       "    <tr>\n",
       "      <th>3</th>\n",
       "      <td>6.255076</td>\n",
       "      <td>6.355414</td>\n",
       "      <td>7.878941</td>\n",
       "      <td>4.544331</td>\n",
       "      <td>4.577210</td>\n",
       "      <td>7.192090</td>\n",
       "      <td>7.930581</td>\n",
       "      <td>60.0</td>\n",
       "      <td>60.0</td>\n",
       "      <td>60.0</td>\n",
       "      <td>...</td>\n",
       "      <td>0.608715</td>\n",
       "      <td>0.695520</td>\n",
       "      <td>0.465277</td>\n",
       "      <td>0.498301</td>\n",
       "      <td>0.558794</td>\n",
       "      <td>0.736132</td>\n",
       "      <td>1.0</td>\n",
       "      <td>1.0</td>\n",
       "      <td>1.0</td>\n",
       "      <td>4</td>\n",
       "    </tr>\n",
       "    <tr>\n",
       "      <th>4</th>\n",
       "      <td>7.554371</td>\n",
       "      <td>5.692802</td>\n",
       "      <td>6.687177</td>\n",
       "      <td>4.944407</td>\n",
       "      <td>5.559352</td>\n",
       "      <td>7.806414</td>\n",
       "      <td>6.598026</td>\n",
       "      <td>60.0</td>\n",
       "      <td>60.0</td>\n",
       "      <td>60.0</td>\n",
       "      <td>...</td>\n",
       "      <td>0.528475</td>\n",
       "      <td>0.573556</td>\n",
       "      <td>0.488644</td>\n",
       "      <td>0.583152</td>\n",
       "      <td>0.594557</td>\n",
       "      <td>0.594187</td>\n",
       "      <td>1.0</td>\n",
       "      <td>1.0</td>\n",
       "      <td>1.0</td>\n",
       "      <td>1</td>\n",
       "    </tr>\n",
       "  </tbody>\n",
       "</table>\n",
       "<p>5 rows × 21 columns</p>\n",
       "</div>"
      ],
      "text/plain": [
       "   column_euc_0  column_euc_1  column_euc_2  column_euc_3  column_euc_4  \\\n",
       "0      7.301305      6.476413      7.214262      6.917620      6.519748   \n",
       "1      5.717004      5.076439      6.340898      3.586788      4.826955   \n",
       "2      5.209466      4.929249      5.848556      2.803293      3.640505   \n",
       "3      6.255076      6.355414      7.878941      4.544331      4.577210   \n",
       "4      7.554371      5.692802      6.687177      4.944407      5.559352   \n",
       "\n",
       "   column_euc_5  column_euc_6  column_euc_7  column_euc_8  column_euc_9  ...  \\\n",
       "0      3.641007      6.908043          60.0          60.0          60.0  ...   \n",
       "1      7.294750      6.392016          60.0          60.0          60.0  ...   \n",
       "2      6.348039      5.655107          60.0          60.0          60.0  ...   \n",
       "3      7.192090      7.930581          60.0          60.0          60.0  ...   \n",
       "4      7.806414      6.598026          60.0          60.0          60.0  ...   \n",
       "\n",
       "   column_cos_1  column_cos_2  column_cos_3  column_cos_4  column_cos_5  \\\n",
       "0      0.552745      0.574794      0.624309      0.619026      0.258351   \n",
       "1      0.519177      0.592157      0.395893      0.572930      0.594844   \n",
       "2      0.498551      0.539787      0.305576      0.425775      0.508852   \n",
       "3      0.608715      0.695520      0.465277      0.498301      0.558794   \n",
       "4      0.528475      0.573556      0.488644      0.583152      0.594557   \n",
       "\n",
       "   column_cos_6  column_cos_7  column_cos_8  column_cos_9  target  \n",
       "0      0.574366           1.0           1.0           1.0       5  \n",
       "1      0.632305           1.0           1.0           1.0       2  \n",
       "2      0.552530           1.0           1.0           1.0       3  \n",
       "3      0.736132           1.0           1.0           1.0       4  \n",
       "4      0.594187           1.0           1.0           1.0       1  \n",
       "\n",
       "[5 rows x 21 columns]"
      ]
     },
     "execution_count": 165,
     "metadata": {},
     "output_type": "execute_result"
    }
   ],
   "source": [
    "train2.head()"
   ]
  },
  {
   "cell_type": "code",
   "execution_count": 166,
   "metadata": {
    "execution": {
     "iopub.execute_input": "2023-04-07T19:16:12.548844Z",
     "iopub.status.busy": "2023-04-07T19:16:12.548429Z",
     "iopub.status.idle": "2023-04-07T19:16:12.559441Z",
     "shell.execute_reply": "2023-04-07T19:16:12.557999Z",
     "shell.execute_reply.started": "2023-04-07T19:16:12.548808Z"
    }
   },
   "outputs": [
    {
     "data": {
      "text/plain": [
       "0        0.683557\n",
       "1        0.662499\n",
       "2        0.595517\n",
       "3        0.668506\n",
       "4        0.779275\n",
       "           ...   \n",
       "19566    0.549702\n",
       "19567    0.506750\n",
       "19568    0.460441\n",
       "19569    0.484803\n",
       "19570    0.586423\n",
       "Name: column_cos_0, Length: 19571, dtype: float64"
      ]
     },
     "execution_count": 166,
     "metadata": {},
     "output_type": "execute_result"
    }
   ],
   "source": [
    "train2.iloc[:,10]"
   ]
  },
  {
   "cell_type": "markdown",
   "metadata": {},
   "source": [
    "## Applying Logistic Regression"
   ]
  },
  {
   "cell_type": "code",
   "execution_count": 167,
   "metadata": {
    "execution": {
     "iopub.execute_input": "2023-04-07T19:16:18.461116Z",
     "iopub.status.busy": "2023-04-07T19:16:18.460675Z",
     "iopub.status.idle": "2023-04-07T19:16:25.784909Z",
     "shell.execute_reply": "2023-04-07T19:16:25.783518Z",
     "shell.execute_reply.started": "2023-04-07T19:16:18.461079Z"
    }
   },
   "outputs": [
    {
     "name": "stdout",
     "output_type": "stream",
     "text": [
      "Multinomial Logistic regression Train Accuracy :  0.5934009781735893\n",
      "Multinomial Logistic regression Test Accuracy :  0.5892370572207084\n"
     ]
    }
   ],
   "source": [
    "#Applying Logistic Regression using sklearn library\n",
    "mul_lr = linear_model.LogisticRegression(multi_class='multinomial', solver='lbfgs',max_iter=300)\n",
    "mul_lr.fit(train_x, train_y)\n",
    "\n",
    "print(\"Multinomial Logistic regression Train Accuracy : \", metrics.accuracy_score(train_y, mul_lr.predict(train_x)))\n",
    "print(\"Multinomial Logistic regression Test Accuracy : \", metrics.accuracy_score(test_y, mul_lr.predict(test_x)))\n"
   ]
  },
  {
   "cell_type": "markdown",
   "metadata": {},
   "source": [
    "## Applying Logistic Regression Using Regularization"
   ]
  },
  {
   "cell_type": "code",
   "execution_count": 168,
   "metadata": {
    "execution": {
     "iopub.execute_input": "2023-04-07T19:16:32.694402Z",
     "iopub.status.busy": "2023-04-07T19:16:32.693913Z",
     "iopub.status.idle": "2023-04-07T19:16:39.004875Z",
     "shell.execute_reply": "2023-04-07T19:16:39.003161Z",
     "shell.execute_reply.started": "2023-04-07T19:16:32.694354Z"
    }
   },
   "outputs": [
    {
     "name": "stdout",
     "output_type": "stream",
     "text": [
      "Multinomial Logistic regression Train Accuracy :  0.5915030294182058\n",
      "Multinomial Logistic regression Test Accuracy :  0.5894073569482289\n"
     ]
    }
   ],
   "source": [
    "#Applying Logistic Regression using sklearn library L2 Regularization\n",
    "mul_lr = linear_model.LogisticRegression(multi_class='multinomial', solver='saga',max_iter=200,penalty='l1')\n",
    "mul_lr.fit(train_x, train_y)\n",
    "\n",
    "print(\"Multinomial Logistic regression Train Accuracy : \", metrics.accuracy_score(train_y, mul_lr.predict(train_x)))\n",
    "print(\"Multinomial Logistic regression Test Accuracy : \", metrics.accuracy_score(test_y, mul_lr.predict(test_x)))\n"
   ]
  },
  {
   "cell_type": "code",
   "execution_count": 169,
   "metadata": {
    "execution": {
     "iopub.execute_input": "2023-04-07T19:16:42.442031Z",
     "iopub.status.busy": "2023-04-07T19:16:42.441555Z",
     "iopub.status.idle": "2023-04-07T19:16:42.455069Z",
     "shell.execute_reply": "2023-04-07T19:16:42.452680Z",
     "shell.execute_reply.started": "2023-04-07T19:16:42.441981Z"
    }
   },
   "outputs": [],
   "source": [
    "y=mul_lr.predict(train_x) #Predicting values of y"
   ]
  },
  {
   "cell_type": "code",
   "execution_count": 170,
   "metadata": {
    "execution": {
     "iopub.execute_input": "2023-04-07T19:16:42.977434Z",
     "iopub.status.busy": "2023-04-07T19:16:42.976986Z",
     "iopub.status.idle": "2023-04-07T19:16:42.983616Z",
     "shell.execute_reply": "2023-04-07T19:16:42.981977Z",
     "shell.execute_reply.started": "2023-04-07T19:16:42.977392Z"
    }
   },
   "outputs": [],
   "source": [
    "train_y=train_y.fillna(0)"
   ]
  },
  {
   "cell_type": "code",
   "execution_count": 171,
   "metadata": {
    "execution": {
     "iopub.execute_input": "2023-04-07T19:16:44.398746Z",
     "iopub.status.busy": "2023-04-07T19:16:44.398263Z",
     "iopub.status.idle": "2023-04-07T19:16:44.404177Z",
     "shell.execute_reply": "2023-04-07T19:16:44.402992Z",
     "shell.execute_reply.started": "2023-04-07T19:16:44.398703Z"
    }
   },
   "outputs": [],
   "source": [
    "train_y=train_y.to_numpy() #Converting to numpy array"
   ]
  },
  {
   "cell_type": "code",
   "execution_count": 172,
   "metadata": {
    "execution": {
     "iopub.execute_input": "2023-04-07T19:16:45.684515Z",
     "iopub.status.busy": "2023-04-07T19:16:45.684063Z",
     "iopub.status.idle": "2023-04-07T19:16:45.695479Z",
     "shell.execute_reply": "2023-04-07T19:16:45.693759Z",
     "shell.execute_reply.started": "2023-04-07T19:16:45.684473Z"
    }
   },
   "outputs": [],
   "source": [
    "#Counting number of unmatched samples\n",
    "count=0\n",
    "for i in range(19571):\n",
    "    if y[i]!=train_y[i]:  #Condition for inequality\n",
    "        count=count+1"
   ]
  },
  {
   "cell_type": "code",
   "execution_count": 173,
   "metadata": {
    "execution": {
     "iopub.execute_input": "2023-04-07T19:16:49.850024Z",
     "iopub.status.busy": "2023-04-07T19:16:49.849567Z",
     "iopub.status.idle": "2023-04-07T19:16:49.857691Z",
     "shell.execute_reply": "2023-04-07T19:16:49.856581Z",
     "shell.execute_reply.started": "2023-04-07T19:16:49.849983Z"
    }
   },
   "outputs": [
    {
     "data": {
      "text/plain": [
       "0.4084969705817943"
      ]
     },
     "execution_count": 173,
     "metadata": {},
     "output_type": "execute_result"
    }
   ],
   "source": [
    "#loss\n",
    "(count)/19571"
   ]
  },
  {
   "cell_type": "code",
   "execution_count": 174,
   "metadata": {
    "execution": {
     "iopub.execute_input": "2023-04-07T19:16:50.836564Z",
     "iopub.status.busy": "2023-04-07T19:16:50.835798Z",
     "iopub.status.idle": "2023-04-07T19:16:50.844260Z",
     "shell.execute_reply": "2023-04-07T19:16:50.843031Z",
     "shell.execute_reply.started": "2023-04-07T19:16:50.836522Z"
    }
   },
   "outputs": [
    {
     "data": {
      "text/plain": [
       "2.3466676399737207"
      ]
     },
     "execution_count": 174,
     "metadata": {},
     "output_type": "execute_result"
    }
   ],
   "source": [
    "#mean square error\n",
    "(np.square(y - train_y).sum())/19571"
   ]
  },
  {
   "cell_type": "code",
   "execution_count": 175,
   "metadata": {
    "execution": {
     "iopub.execute_input": "2023-04-07T19:16:52.107746Z",
     "iopub.status.busy": "2023-04-07T19:16:52.106489Z",
     "iopub.status.idle": "2023-04-07T19:16:52.125443Z",
     "shell.execute_reply": "2023-04-07T19:16:52.123512Z",
     "shell.execute_reply.started": "2023-04-07T19:16:52.107694Z"
    }
   },
   "outputs": [
    {
     "data": {
      "text/plain": [
       "0.5915030294182058"
      ]
     },
     "execution_count": 175,
     "metadata": {},
     "output_type": "execute_result"
    }
   ],
   "source": [
    "#fscore\n",
    "from sklearn.metrics import f1_score\n",
    "f1_score(train_y, y, average='micro')"
   ]
  },
  {
   "cell_type": "markdown",
   "metadata": {},
   "source": [
    "## Random Forest Classifier"
   ]
  },
  {
   "cell_type": "code",
   "execution_count": 176,
   "metadata": {
    "execution": {
     "iopub.execute_input": "2023-04-07T19:16:53.681647Z",
     "iopub.status.busy": "2023-04-07T19:16:53.681189Z",
     "iopub.status.idle": "2023-04-07T19:16:53.688897Z",
     "shell.execute_reply": "2023-04-07T19:16:53.687468Z",
     "shell.execute_reply.started": "2023-04-07T19:16:53.681611Z"
    }
   },
   "outputs": [],
   "source": [
    "from sklearn.ensemble import RandomForestClassifier\n",
    "from sklearn.model_selection import RandomizedSearchCV, GridSearchCV"
   ]
  },
  {
   "cell_type": "code",
   "execution_count": 177,
   "metadata": {
    "execution": {
     "iopub.execute_input": "2023-04-07T19:16:55.344500Z",
     "iopub.status.busy": "2023-04-07T19:16:55.344064Z",
     "iopub.status.idle": "2023-04-07T19:16:55.566268Z",
     "shell.execute_reply": "2023-04-07T19:16:55.564786Z",
     "shell.execute_reply.started": "2023-04-07T19:16:55.344463Z"
    }
   },
   "outputs": [
    {
     "name": "stdout",
     "output_type": "stream",
     "text": [
      "Random Forest Train Accuracy :  0.8321045331776042\n",
      "Random Forest Test Accuracy  0.5933242506811989\n"
     ]
    }
   ],
   "source": [
    "rf = RandomForestClassifier(min_samples_leaf=3, n_estimators=5)\n",
    "rf.fit(train_x, train_y)\n",
    "\n",
    "print(\"Random Forest Train Accuracy : \", metrics.accuracy_score(train_y, rf.predict(train_x)))\n",
    "print(\"Random Forest Test Accuracy \", metrics.accuracy_score(test_y, rf.predict(test_x)))"
   ]
  },
  {
   "cell_type": "markdown",
   "metadata": {},
   "source": [
    "## XG BOOST Classifier"
   ]
  },
  {
   "cell_type": "code",
   "execution_count": 178,
   "metadata": {
    "execution": {
     "iopub.execute_input": "2023-04-07T19:16:57.186652Z",
     "iopub.status.busy": "2023-04-07T19:16:57.186220Z",
     "iopub.status.idle": "2023-04-07T19:16:57.192760Z",
     "shell.execute_reply": "2023-04-07T19:16:57.191304Z",
     "shell.execute_reply.started": "2023-04-07T19:16:57.186617Z"
    }
   },
   "outputs": [],
   "source": [
    "import xgboost as xgb\n",
    "from xgboost import plot_tree"
   ]
  },
  {
   "cell_type": "code",
   "execution_count": 179,
   "metadata": {
    "execution": {
     "iopub.execute_input": "2023-04-07T19:16:59.515467Z",
     "iopub.status.busy": "2023-04-07T19:16:59.514968Z",
     "iopub.status.idle": "2023-04-07T19:16:59.522184Z",
     "shell.execute_reply": "2023-04-07T19:16:59.520682Z",
     "shell.execute_reply.started": "2023-04-07T19:16:59.515424Z"
    }
   },
   "outputs": [],
   "source": [
    "from sklearn.preprocessing import LabelEncoder\n",
    "le = LabelEncoder()\n",
    "train_y = le.fit_transform(train_y)"
   ]
  },
  {
   "cell_type": "code",
   "execution_count": 180,
   "metadata": {
    "execution": {
     "iopub.execute_input": "2023-04-07T19:17:00.907014Z",
     "iopub.status.busy": "2023-04-07T19:17:00.906562Z",
     "iopub.status.idle": "2023-04-07T19:17:11.276409Z",
     "shell.execute_reply": "2023-04-07T19:17:11.275084Z",
     "shell.execute_reply.started": "2023-04-07T19:17:00.906973Z"
    }
   },
   "outputs": [
    {
     "name": "stdout",
     "output_type": "stream",
     "text": [
      "XgBoost Train Accuracy :  0.7747280823417768\n",
      "XgBoost Test Accuracy :  0.10149863760217984\n"
     ]
    }
   ],
   "source": [
    "xg = xgb.XGBClassifier(max_depth=3)\n",
    "xg.fit(train_x, train_y)\n",
    "\n",
    "print(\"XgBoost Train Accuracy : \", metrics.accuracy_score(train_y, xg.predict(train_x)))\n",
    "print(\"XgBoost Test Accuracy : \", metrics.accuracy_score(test_y, xg.predict(test_x)))"
   ]
  },
  {
   "cell_type": "code",
   "execution_count": 111,
   "metadata": {
    "execution": {
     "iopub.execute_input": "2023-04-07T19:08:21.250378Z",
     "iopub.status.busy": "2023-04-07T19:08:21.249268Z",
     "iopub.status.idle": "2023-04-07T19:08:40.089833Z",
     "shell.execute_reply": "2023-04-07T19:08:40.088638Z",
     "shell.execute_reply.started": "2023-04-07T19:08:21.250336Z"
    }
   },
   "outputs": [
    {
     "data": {
      "image/png": "[encoded data removed]",
      "text/plain": [
       "<Figure size 15000x10000 with 1 Axes>"
      ]
     },
     "metadata": {},
     "output_type": "display_data"
    }
   ],
   "source": [
    "import matplotlib\n",
    "xgb.plot_tree(xg, num_trees=2)\n",
    "fig = matplotlib.pyplot.gcf()\n",
    "fig.set_size_inches(150, 100)\n",
    "fig.savefig('tree.png')"
   ]
  },
  {
   "cell_type": "markdown",
   "metadata": {},
   "source": [
    "## Support Vector Machine"
   ]
  },
  {
   "cell_type": "code",
   "execution_count": 112,
   "metadata": {
    "execution": {
     "iopub.execute_input": "2023-04-07T19:08:40.899393Z",
     "iopub.status.busy": "2023-04-07T19:08:40.898867Z",
     "iopub.status.idle": "2023-04-07T19:08:40.905778Z",
     "shell.execute_reply": "2023-04-07T19:08:40.904347Z",
     "shell.execute_reply.started": "2023-04-07T19:08:40.899346Z"
    }
   },
   "outputs": [],
   "source": [
    "from sklearn import svm  #Importing module for svm"
   ]
  },
  {
   "cell_type": "code",
   "execution_count": 113,
   "metadata": {
    "execution": {
     "iopub.execute_input": "2023-04-07T19:08:43.817730Z",
     "iopub.status.busy": "2023-04-07T19:08:43.817178Z",
     "iopub.status.idle": "2023-04-07T19:08:43.823887Z",
     "shell.execute_reply": "2023-04-07T19:08:43.822885Z",
     "shell.execute_reply.started": "2023-04-07T19:08:43.817682Z"
    }
   },
   "outputs": [],
   "source": [
    "clf=svm.SVC(kernel='linear', random_state=1)  #Choosing linear kernel and random_state as 1 for svm"
   ]
  },
  {
   "cell_type": "code",
   "execution_count": 114,
   "metadata": {
    "execution": {
     "iopub.execute_input": "2023-04-07T19:08:46.202832Z",
     "iopub.status.busy": "2023-04-07T19:08:46.202386Z",
     "iopub.status.idle": "2023-04-07T19:08:54.781415Z",
     "shell.execute_reply": "2023-04-07T19:08:54.780043Z",
     "shell.execute_reply.started": "2023-04-07T19:08:46.202796Z"
    }
   },
   "outputs": [
    {
     "data": {
      "text/plain": [
       "SVC(kernel='linear', random_state=1)"
      ]
     },
     "execution_count": 114,
     "metadata": {},
     "output_type": "execute_result"
    }
   ],
   "source": [
    "clf.fit(train_x,train_y)  #Training on svm"
   ]
  },
  {
   "cell_type": "code",
   "execution_count": 115,
   "metadata": {
    "execution": {
     "iopub.execute_input": "2023-04-07T19:08:54.783344Z",
     "iopub.status.busy": "2023-04-07T19:08:54.782982Z",
     "iopub.status.idle": "2023-04-07T19:09:04.351667Z",
     "shell.execute_reply": "2023-04-07T19:09:04.350324Z",
     "shell.execute_reply.started": "2023-04-07T19:08:54.783312Z"
    }
   },
   "outputs": [
    {
     "name": "stdout",
     "output_type": "stream",
     "text": [
      "SVM train Accuracy :  0.619388276516534\n",
      "SVM test Accuracy :  0.11563351498637602\n"
     ]
    }
   ],
   "source": [
    "print(\"SVM train Accuracy : \", metrics.accuracy_score(train_y, clf.predict(train_x)))\n",
    "print(\"SVM test Accuracy : \", metrics.accuracy_score(test_y, clf.predict(test_x)))"
   ]
  },
  {
   "cell_type": "code",
   "execution_count": 116,
   "metadata": {
    "execution": {
     "iopub.execute_input": "2023-04-07T19:09:05.749004Z",
     "iopub.status.busy": "2023-04-07T19:09:05.748581Z",
     "iopub.status.idle": "2023-04-07T19:09:05.756122Z",
     "shell.execute_reply": "2023-04-07T19:09:05.754837Z",
     "shell.execute_reply.started": "2023-04-07T19:09:05.748967Z"
    }
   },
   "outputs": [
    {
     "data": {
      "text/plain": [
       "(10863, 20)"
      ]
     },
     "execution_count": 116,
     "metadata": {},
     "output_type": "execute_result"
    }
   ],
   "source": [
    "clf.support_vectors_.shape #shape of support vectors"
   ]
  },
  {
   "cell_type": "code",
   "execution_count": 117,
   "metadata": {
    "execution": {
     "iopub.execute_input": "2023-04-07T19:09:07.122872Z",
     "iopub.status.busy": "2023-04-07T19:09:07.122441Z",
     "iopub.status.idle": "2023-04-07T19:09:07.132382Z",
     "shell.execute_reply": "2023-04-07T19:09:07.130992Z",
     "shell.execute_reply.started": "2023-04-07T19:09:07.122839Z"
    }
   },
   "outputs": [
    {
     "data": {
      "text/plain": [
       "array([   85,   834,   909, ..., 11293, 11803, 12838], dtype=int32)"
      ]
     },
     "execution_count": 117,
     "metadata": {},
     "output_type": "execute_result"
    }
   ],
   "source": [
    "clf.support_ ##indices of support vectors"
   ]
  },
  {
   "cell_type": "code",
   "execution_count": 118,
   "metadata": {
    "execution": {
     "iopub.execute_input": "2023-04-07T19:09:08.418072Z",
     "iopub.status.busy": "2023-04-07T19:09:08.416925Z",
     "iopub.status.idle": "2023-04-07T19:09:28.980968Z",
     "shell.execute_reply": "2023-04-07T19:09:28.979642Z",
     "shell.execute_reply.started": "2023-04-07T19:09:08.418031Z"
    }
   },
   "outputs": [
    {
     "name": "stdout",
     "output_type": "stream",
     "text": [
      "SVM train Accuracy :  0.6137674282794364\n",
      "SVM test Accuracy :  0.11529291553133515\n"
     ]
    }
   ],
   "source": [
    "from sklearn.svm import SVC\n",
    "clf = SVC(kernel='poly', C=10000, gamma=0.01, random_state=1) #when c=50 accuracy-around 49\n",
    "clf.fit(train_x,train_y)\n",
    "print(\"SVM train Accuracy : \", metrics.accuracy_score(train_y, clf.predict(train_x)))\n",
    "print(\"SVM test Accuracy : \", metrics.accuracy_score(test_y, clf.predict(test_x)))"
   ]
  },
  {
   "cell_type": "code",
   "execution_count": 119,
   "metadata": {
    "execution": {
     "iopub.execute_input": "2023-04-07T19:09:32.523590Z",
     "iopub.status.busy": "2023-04-07T19:09:32.522641Z",
     "iopub.status.idle": "2023-04-07T19:10:08.991911Z",
     "shell.execute_reply": "2023-04-07T19:10:08.990872Z",
     "shell.execute_reply.started": "2023-04-07T19:09:32.523551Z"
    }
   },
   "outputs": [
    {
     "name": "stdout",
     "output_type": "stream",
     "text": [
      "SVM train Accuracy :  0.6435506241331485\n",
      "SVM test Accuracy :  0.11597411444141689\n"
     ]
    }
   ],
   "source": [
    "from sklearn.svm import SVC\n",
    "clf = SVC(kernel='rbf', C=10000, gamma=0.01, random_state=1)\n",
    "clf.fit(train_x,train_y)\n",
    "print(\"SVM train Accuracy : \", metrics.accuracy_score(train_y, clf.predict(train_x)))\n",
    "print(\"SVM test Accuracy : \", metrics.accuracy_score(test_y, clf.predict(test_x)))"
   ]
  },
  {
   "cell_type": "code",
   "execution_count": null,
   "metadata": {},
   "outputs": [],
   "source": []
  }
 ],
 "metadata": {
  "kernelspec": {
   "display_name": "Python 3 (ipykernel)",
   "language": "python",
   "name": "python3"
  },
  "language_info": {
   "codemirror_mode": {
    "name": "ipython",
    "version": 3
   },
   "file_extension": ".py",
   "mimetype": "text/x-python",
   "name": "python",
   "nbconvert_exporter": "python",
   "pygments_lexer": "ipython3",
   "version": "3.11.2"
  }
 },
 "nbformat": 4,
 "nbformat_minor": 4
}
